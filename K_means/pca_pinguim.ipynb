{
 "cells": [
  {
   "cell_type": "code",
   "execution_count": 2,
   "metadata": {},
   "outputs": [
    {
     "name": "stdout",
     "output_type": "stream",
     "text": [
      "<class 'pandas.core.frame.DataFrame'>\n",
      "RangeIndex: 344 entries, 0 to 343\n",
      "Data columns (total 7 columns):\n",
      " #   Column             Non-Null Count  Dtype  \n",
      "---  ------             --------------  -----  \n",
      " 0   species            344 non-null    object \n",
      " 1   island             344 non-null    object \n",
      " 2   bill_length_mm     342 non-null    float64\n",
      " 3   bill_depth_mm      342 non-null    float64\n",
      " 4   flipper_length_mm  342 non-null    float64\n",
      " 5   body_mass_g        342 non-null    float64\n",
      " 6   sex                333 non-null    object \n",
      "dtypes: float64(4), object(3)\n",
      "memory usage: 18.9+ KB\n"
     ]
    },
    {
     "data": {
      "text/html": [
       "<div>\n",
       "<style scoped>\n",
       "    .dataframe tbody tr th:only-of-type {\n",
       "        vertical-align: middle;\n",
       "    }\n",
       "\n",
       "    .dataframe tbody tr th {\n",
       "        vertical-align: top;\n",
       "    }\n",
       "\n",
       "    .dataframe thead th {\n",
       "        text-align: right;\n",
       "    }\n",
       "</style>\n",
       "<table border=\"1\" class=\"dataframe\">\n",
       "  <thead>\n",
       "    <tr style=\"text-align: right;\">\n",
       "      <th></th>\n",
       "      <th>species</th>\n",
       "      <th>island</th>\n",
       "      <th>bill_length_mm</th>\n",
       "      <th>bill_depth_mm</th>\n",
       "      <th>flipper_length_mm</th>\n",
       "      <th>body_mass_g</th>\n",
       "      <th>sex</th>\n",
       "    </tr>\n",
       "  </thead>\n",
       "  <tbody>\n",
       "    <tr>\n",
       "      <th>0</th>\n",
       "      <td>Adelie</td>\n",
       "      <td>Torgersen</td>\n",
       "      <td>39.1</td>\n",
       "      <td>18.7</td>\n",
       "      <td>181.0</td>\n",
       "      <td>3750.0</td>\n",
       "      <td>Male</td>\n",
       "    </tr>\n",
       "    <tr>\n",
       "      <th>1</th>\n",
       "      <td>Adelie</td>\n",
       "      <td>Torgersen</td>\n",
       "      <td>39.5</td>\n",
       "      <td>17.4</td>\n",
       "      <td>186.0</td>\n",
       "      <td>3800.0</td>\n",
       "      <td>Female</td>\n",
       "    </tr>\n",
       "    <tr>\n",
       "      <th>2</th>\n",
       "      <td>Adelie</td>\n",
       "      <td>Torgersen</td>\n",
       "      <td>40.3</td>\n",
       "      <td>18.0</td>\n",
       "      <td>195.0</td>\n",
       "      <td>3250.0</td>\n",
       "      <td>Female</td>\n",
       "    </tr>\n",
       "    <tr>\n",
       "      <th>4</th>\n",
       "      <td>Adelie</td>\n",
       "      <td>Torgersen</td>\n",
       "      <td>36.7</td>\n",
       "      <td>19.3</td>\n",
       "      <td>193.0</td>\n",
       "      <td>3450.0</td>\n",
       "      <td>Female</td>\n",
       "    </tr>\n",
       "    <tr>\n",
       "      <th>5</th>\n",
       "      <td>Adelie</td>\n",
       "      <td>Torgersen</td>\n",
       "      <td>39.3</td>\n",
       "      <td>20.6</td>\n",
       "      <td>190.0</td>\n",
       "      <td>3650.0</td>\n",
       "      <td>Male</td>\n",
       "    </tr>\n",
       "    <tr>\n",
       "      <th>...</th>\n",
       "      <td>...</td>\n",
       "      <td>...</td>\n",
       "      <td>...</td>\n",
       "      <td>...</td>\n",
       "      <td>...</td>\n",
       "      <td>...</td>\n",
       "      <td>...</td>\n",
       "    </tr>\n",
       "    <tr>\n",
       "      <th>338</th>\n",
       "      <td>Gentoo</td>\n",
       "      <td>Biscoe</td>\n",
       "      <td>47.2</td>\n",
       "      <td>13.7</td>\n",
       "      <td>214.0</td>\n",
       "      <td>4925.0</td>\n",
       "      <td>Female</td>\n",
       "    </tr>\n",
       "    <tr>\n",
       "      <th>340</th>\n",
       "      <td>Gentoo</td>\n",
       "      <td>Biscoe</td>\n",
       "      <td>46.8</td>\n",
       "      <td>14.3</td>\n",
       "      <td>215.0</td>\n",
       "      <td>4850.0</td>\n",
       "      <td>Female</td>\n",
       "    </tr>\n",
       "    <tr>\n",
       "      <th>341</th>\n",
       "      <td>Gentoo</td>\n",
       "      <td>Biscoe</td>\n",
       "      <td>50.4</td>\n",
       "      <td>15.7</td>\n",
       "      <td>222.0</td>\n",
       "      <td>5750.0</td>\n",
       "      <td>Male</td>\n",
       "    </tr>\n",
       "    <tr>\n",
       "      <th>342</th>\n",
       "      <td>Gentoo</td>\n",
       "      <td>Biscoe</td>\n",
       "      <td>45.2</td>\n",
       "      <td>14.8</td>\n",
       "      <td>212.0</td>\n",
       "      <td>5200.0</td>\n",
       "      <td>Female</td>\n",
       "    </tr>\n",
       "    <tr>\n",
       "      <th>343</th>\n",
       "      <td>Gentoo</td>\n",
       "      <td>Biscoe</td>\n",
       "      <td>49.9</td>\n",
       "      <td>16.1</td>\n",
       "      <td>213.0</td>\n",
       "      <td>5400.0</td>\n",
       "      <td>Male</td>\n",
       "    </tr>\n",
       "  </tbody>\n",
       "</table>\n",
       "<p>333 rows × 7 columns</p>\n",
       "</div>"
      ],
      "text/plain": [
       "    species     island  bill_length_mm  bill_depth_mm  flipper_length_mm  \\\n",
       "0    Adelie  Torgersen            39.1           18.7              181.0   \n",
       "1    Adelie  Torgersen            39.5           17.4              186.0   \n",
       "2    Adelie  Torgersen            40.3           18.0              195.0   \n",
       "4    Adelie  Torgersen            36.7           19.3              193.0   \n",
       "5    Adelie  Torgersen            39.3           20.6              190.0   \n",
       "..      ...        ...             ...            ...                ...   \n",
       "338  Gentoo     Biscoe            47.2           13.7              214.0   \n",
       "340  Gentoo     Biscoe            46.8           14.3              215.0   \n",
       "341  Gentoo     Biscoe            50.4           15.7              222.0   \n",
       "342  Gentoo     Biscoe            45.2           14.8              212.0   \n",
       "343  Gentoo     Biscoe            49.9           16.1              213.0   \n",
       "\n",
       "     body_mass_g     sex  \n",
       "0         3750.0    Male  \n",
       "1         3800.0  Female  \n",
       "2         3250.0  Female  \n",
       "4         3450.0  Female  \n",
       "5         3650.0    Male  \n",
       "..           ...     ...  \n",
       "338       4925.0  Female  \n",
       "340       4850.0  Female  \n",
       "341       5750.0    Male  \n",
       "342       5200.0  Female  \n",
       "343       5400.0    Male  \n",
       "\n",
       "[333 rows x 7 columns]"
      ]
     },
     "execution_count": 2,
     "metadata": {},
     "output_type": "execute_result"
    }
   ],
   "source": [
    "import pandas as pd\n",
    "import seaborn as sns\n",
    "import matplotlib.pyplot as plt\n",
    "from sklearn.decomposition import PCA\n",
    "from sklearn.preprocessing import StandardScaler, LabelEncoder\n",
    "import plotly.express as px\n",
    "\n",
    "pinguins = sns.load_dataset('penguins')\n",
    "pinguins.info()\n",
    "\n",
    "# remove todas as linhas com valor nulo (null values)\n",
    "df = pinguins.dropna()\n",
    "df\n"
   ]
  },
  {
   "cell_type": "code",
   "execution_count": 3,
   "metadata": {},
   "outputs": [
    {
     "name": "stderr",
     "output_type": "stream",
     "text": [
      "C:\\Users\\Priscila\\AppData\\Local\\Temp\\ipykernel_14056\\4129124699.py:1: SettingWithCopyWarning: \n",
      "A value is trying to be set on a copy of a slice from a DataFrame.\n",
      "Try using .loc[row_indexer,col_indexer] = value instead\n",
      "\n",
      "See the caveats in the documentation: https://pandas.pydata.org/pandas-docs/stable/user_guide/indexing.html#returning-a-view-versus-a-copy\n",
      "  df['species'] = pinguins.species\n"
     ]
    },
    {
     "data": {
      "text/plain": [
       "<seaborn.axisgrid.PairGrid at 0x1938ab8cfb0>"
      ]
     },
     "execution_count": 3,
     "metadata": {},
     "output_type": "execute_result"
    },
    {
     "data": {
      "image/png": "[encoded data removed]",
      "text/plain": [
       "<Figure size 1117x1000 with 20 Axes>"
      ]
     },
     "metadata": {},
     "output_type": "display_data"
    }
   ],
   "source": [
    "df['species'] = pinguins.species\n",
    "sns.pairplot(df, hue='species', palette=\"deep\")"
   ]
  },
  {
   "cell_type": "code",
   "execution_count": 4,
   "metadata": {},
   "outputs": [
    {
     "data": {
      "text/plain": [
       "<Axes: >"
      ]
     },
     "execution_count": 4,
     "metadata": {},
     "output_type": "execute_result"
    },
    {
     "data": {
      "image/png": "[encoded data removed]",
      "text/plain": [
       "<Figure size 1200x800 with 2 Axes>"
      ]
     },
     "metadata": {},
     "output_type": "display_data"
    }
   ],
   "source": [
    "sns.set(rc={'figure.figsize':(12,8)})\n",
    "sns.heatmap(df.iloc[:,2:-1].corr(), annot=True)"
   ]
  },
  {
   "cell_type": "code",
   "execution_count": 5,
   "metadata": {},
   "outputs": [
    {
     "name": "stdout",
     "output_type": "stream",
     "text": [
      "[0 0 0 0 0 0 0 0 0 0 0 0 0 0 0 0 0 0 0 0 0 0 0 0 0 0 0 0 0 0 0 0 0 0 0 0 0\n",
      " 0 0 0 0 0 0 0 0 0 0 0 0 0 0 0 0 0 0 0 0 0 0 0 0 0 0 0 0 0 0 0 0 0 0 0 0 0\n",
      " 0 0 0 0 0 0 0 0 0 0 0 0 0 0 0 0 0 0 0 0 0 0 0 0 0 0 0 0 0 0 0 0 0 0 0 0 0\n",
      " 0 0 0 0 0 0 0 0 0 0 0 0 0 0 0 0 0 0 0 0 0 0 0 0 0 0 0 0 0 0 0 0 0 0 0 1 1\n",
      " 1 1 1 1 1 1 1 1 1 1 1 1 1 1 1 1 1 1 1 1 1 1 1 1 1 1 1 1 1 1 1 1 1 1 1 1 1\n",
      " 1 1 1 1 1 1 1 1 1 1 1 1 1 1 1 1 1 1 1 1 1 1 1 1 1 1 1 1 1 2 2 2 2 2 2 2 2\n",
      " 2 2 2 2 2 2 2 2 2 2 2 2 2 2 2 2 2 2 2 2 2 2 2 2 2 2 2 2 2 2 2 2 2 2 2 2 2\n",
      " 2 2 2 2 2 2 2 2 2 2 2 2 2 2 2 2 2 2 2 2 2 2 2 2 2 2 2 2 2 2 2 2 2 2 2 2 2\n",
      " 2 2 2 2 2 2 2 2 2 2 2 2 2 2 2 2 2 2 2 2 2 2 2 2 2 2 2 2 2 2 2 2 2 2 2 2 2]\n"
     ]
    },
    {
     "name": "stderr",
     "output_type": "stream",
     "text": [
      "C:\\Users\\Priscila\\AppData\\Local\\Packages\\PythonSoftwareFoundation.Python.3.12_qbz5n2kfra8p0\\LocalCache\\local-packages\\Python312\\site-packages\\sklearn\\preprocessing\\_label.py:114: DataConversionWarning: A column-vector y was passed when a 1d array was expected. Please change the shape of y to (n_samples, ), for example using ravel().\n",
      "  y = column_or_1d(y, warn=True)\n"
     ]
    }
   ],
   "source": [
    "encoder = LabelEncoder()\n",
    "especies = encoder.fit_transform(df.iloc[:,0:1])\n",
    "print(especies)"
   ]
  },
  {
   "cell_type": "code",
   "execution_count": 6,
   "metadata": {},
   "outputs": [
    {
     "name": "stdout",
     "output_type": "stream",
     "text": [
      "333\n"
     ]
    },
    {
     "data": {
      "text/plain": [
       "<Axes: title={'center': '2D com correção de escala'}>"
      ]
     },
     "execution_count": 6,
     "metadata": {},
     "output_type": "execute_result"
    },
    {
     "data": {
      "image/png": "[encoded data removed]",
      "text/plain": [
       "<Figure size 1200x800 with 1 Axes>"
      ]
     },
     "metadata": {},
     "output_type": "display_data"
    }
   ],
   "source": [
    "scaler = StandardScaler()\n",
    "padronizado = scaler.fit_transform(df.iloc[:,2:-1])\n",
    "pca = PCA(n_components=2)\n",
    "dados = pca.fit_transform(padronizado)\n",
    "print(len(dados))\n",
    "plt.title(\"2D com correção de escala\")\n",
    "sns.scatterplot(x=dados[:,0], y =dados[:,1], hue=especies, palette=\"deep\")"
   ]
  },
  {
   "cell_type": "code",
   "execution_count": 7,
   "metadata": {},
   "outputs": [
    {
     "data": {
      "application/vnd.plotly.v1+json": {
       "config": {
        "plotlyServerURL": "https://plot.ly"
       },
       "data": [
        {
         "hovertemplate": "x=%{x}<br>y=%{y}<br>z=%{z}<br>color=%{marker.color}<extra></extra>",
         "legendgroup": "",
         "marker": {
          "color": [
           0,
           0,
           0,
           0,
           0,
           0,
           0,
           0,
           0,
           0,
           0,
           0,
           0,
           0,
           0,
           0,
           0,
           0,
           0,
           0,
           0,
           0,
           0,
           0,
           0,
           0,
           0,
           0,
           0,
           0,
           0,
           0,
           0,
           0,
           0,
           0,
           0,
           0,
           0,
           0,
           0,
           0,
           0,
           0,
           0,
           0,
           0,
           0,
           0,
           0,
           0,
           0,
           0,
           0,
           0,
           0,
           0,
           0,
           0,
           0,
           0,
           0,
           0,
           0,
           0,
           0,
           0,
           0,
           0,
           0,
           0,
           0,
           0,
           0,
           0,
           0,
           0,
           0,
           0,
           0,
           0,
           0,
           0,
           0,
           0,
           0,
           0,
           0,
           0,
           0,
           0,
           0,
           0,
           0,
           0,
           0,
           0,
           0,
           0,
           0,
           0,
           0,
           0,
           0,
           0,
           0,
           0,
           0,
           0,
           0,
           0,
           0,
           0,
           0,
           0,
           0,
           0,
           0,
           0,
           0,
           0,
           0,
           0,
           0,
           0,
           0,
           0,
           0,
           0,
           0,
           0,
           0,
           0,
           0,
           0,
           0,
           0,
           0,
           0,
           0,
           0,
           0,
           0,
           0,
           0,
           0,
           1,
           1,
           1,
           1,
           1,
           1,
           1,
           1,
           1,
           1,
           1,
           1,
           1,
           1,
           1,
           1,
           1,
           1,
           1,
           1,
           1,
           1,
           1,
           1,
           1,
           1,
           1,
           1,
           1,
           1,
           1,
           1,
           1,
           1,
           1,
           1,
           1,
           1,
           1,
           1,
           1,
           1,
           1,
           1,
           1,
           1,
           1,
           1,
           1,
           1,
           1,
           1,
           1,
           1,
           1,
           1,
           1,
           1,
           1,
           1,
           1,
           1,
           1,
           1,
           1,
           1,
           1,
           1,
           2,
           2,
           2,
           2,
           2,
           2,
           2,
           2,
           2,
           2,
           2,
           2,
           2,
           2,
           2,
           2,
           2,
           2,
           2,
           2,
           2,
           2,
           2,
           2,
           2,
           2,
           2,
           2,
           2,
           2,
           2,
           2,
           2,
           2,
           2,
           2,
           2,
           2,
           2,
           2,
           2,
           2,
           2,
           2,
           2,
           2,
           2,
           2,
           2,
           2,
           2,
           2,
           2,
           2,
           2,
           2,
           2,
           2,
           2,
           2,
           2,
           2,
           2,
           2,
           2,
           2,
           2,
           2,
           2,
           2,
           2,
           2,
           2,
           2,
           2,
           2,
           2,
           2,
           2,
           2,
           2,
           2,
           2,
           2,
           2,
           2,
           2,
           2,
           2,
           2,
           2,
           2,
           2,
           2,
           2,
           2,
           2,
           2,
           2,
           2,
           2,
           2,
           2,
           2,
           2,
           2,
           2,
           2,
           2,
           2,
           2,
           2,
           2,
           2,
           2,
           2,
           2,
           2,
           2
          ],
          "coloraxis": "coloraxis",
          "symbol": "circle"
         },
         "mode": "markers",
         "name": "",
         "scene": "scene",
         "showlegend": false,
         "type": "scatter3d",
         "x": [
          -1.8535930167131864,
          -1.3162540581184377,
          -1.376605092249518,
          -1.885288376536636,
          -1.9199807394849309,
          -1.7730203148724408,
          -0.81849624958723,
          -1.7989577269474686,
          -1.9561489235719702,
          -1.5695231625275001,
          -1.7480012194652137,
          -1.5757737082839904,
          -0.8047201900781972,
          -2.350178089159919,
          -1.0049864461699152,
          -2.408248444379629,
          -2.1136982540737965,
          -1.857057292890014,
          -1.5050104246463951,
          -1.5811378606119075,
          -1.9284672183575202,
          -1.7629505393338356,
          -1.7036134101711498,
          -2.714174584393591,
          -1.6823281570620654,
          -1.8799496285526587,
          -1.9108136662751225,
          -1.6568325798169963,
          -1.5184029121167204,
          -1.4464668357538988,
          -1.4406241041238304,
          -1.6346614009137013,
          -1.733351121449288,
          -2.407659084683759,
          -1.1376474409693922,
          -2.2965708023957245,
          -0.9718487728884084,
          -2.3089066798046574,
          -0.5784019463304613,
          -2.0106799180218147,
          -0.8802626199464432,
          -1.929255869380441,
          -1.7829852819510406,
          -1.409401396936019,
          -1.5739289489096153,
          -1.1465438880734626,
          -1.8660833943260569,
          -0.7867338631345723,
          -2.447892222206575,
          -1.2641825416942942,
          -1.5490151862981496,
          -1.2204484062089176,
          -2.258765287673685,
          -1.5235925622275177,
          -2.016156959460025,
          -1.1364179357737234,
          -1.570913596242916,
          -0.9274318321987192,
          -2.2448957939691185,
          -0.913660650624046,
          -1.3418068721697063,
          -1.2407689103842332,
          -1.8009337704231185,
          -0.5920256597406158,
          -2.111420264916151,
          -1.2693435734323124,
          -1.0260988722803088,
          -0.40447877370868535,
          -1.5724385734162871,
          -0.5866626015333378,
          -0.940429441501453,
          -1.9273387491210439,
          -1.4563486261549796,
          -0.9375161734048164,
          -1.9693955727077221,
          -0.046832822771452884,
          -1.7918352967891447,
          -1.525787397333462,
          -1.6818127993334302,
          -1.5963983235592711,
          -1.8434843652837887,
          -1.8572928043535029,
          -1.5550713185406646,
          -1.622101329604358,
          -1.2652337721720306,
          -0.2003938801849116,
          -2.0270953712354083,
          -1.0056206764373936,
          -1.8708009048240632,
          -0.26402770168540646,
          -1.5796236879181251,
          -0.6848235039850609,
          -2.5292946731410377,
          -0.779625987391473,
          -1.5956393850297663,
          -0.38617539964562325,
          -1.8010196596170278,
          -1.5126585039900966,
          -2.0024354582557344,
          -1.8574051578151305,
          -0.8488108522974126,
          -1.7187037698884808,
          -1.9847938047735632,
          -0.21353466075495323,
          -0.7382400818430738,
          -0.6448750339603592,
          -1.4821985192667937,
          -0.7399406098444349,
          -1.70321098688065,
          -0.6328081643220519,
          -1.84273237940585,
          -1.6094672676406896,
          -1.7348480159591881,
          -1.6279229878026298,
          -1.9530568452300208,
          -1.6633927068972267,
          -1.8283653871936794,
          -0.6708545927776959,
          -1.8819100009272691,
          -0.8769992761788789,
          -1.5678517546088557,
          -0.6199175175843833,
          -1.6035850678910544,
          0.07018088881625559,
          -1.6606987548879253,
          -1.1341128899982995,
          -1.6804385498025425,
          -0.7083873386018491,
          -1.6883394301671655,
          -0.9703551379171151,
          -1.881838153065095,
          -1.1093531031943735,
          -1.6560336486502425,
          -0.8049341152083257,
          -1.182148071420089,
          -1.3652323907064432,
          -1.975901141543854,
          -1.0217638170745533,
          -1.6769342923620167,
          -1.7654003295051193,
          -1.1121972472581354,
          -2.0648117372855728,
          -1.5566038407763019,
          -1.3452446727052647,
          -1.5733633864142,
          -0.618303403052046,
          -0.7938368496910448,
          -0.38936897032886153,
          -0.515027365418965,
          -1.1953790380206089,
          -0.304312639684294,
          -0.32661406526961834,
          -1.635920550527842,
          -0.07884521834078802,
          -0.47029390200623644,
          -0.4168189366412774,
          -0.5189140895252925,
          -0.5783521978851356,
          -0.7823080295482808,
          0.36958853540880604,
          -0.7124987016171326,
          -0.05947709680400966,
          -0.8348970010440853,
          -0.13457111618497442,
          -1.060826862954341,
          0.1085995150461358,
          -1.3977958511180053,
          -0.6560467464534191,
          -1.4205201808936416,
          -0.5112346679188707,
          -0.7902991072562902,
          0.09043495877306289,
          -0.30154522141706563,
          -0.2329427068540372,
          -0.6863354658723908,
          0.5571748217279275,
          -1.4065448300575585,
          0.17536865581216893,
          -1.191331909851574,
          0.26104672565264525,
          -0.47796571053609005,
          0.07449110946295343,
          -0.42067054604471515,
          0.7256387668046829,
          -1.043704294373776,
          0.601454563084022,
          0.13875967425377403,
          -0.8411243987122146,
          -0.47268692306632737,
          -0.5294143823307776,
          -0.14369339827166852,
          0.4621605559835367,
          -0.6454853990130809,
          0.4401843716313666,
          -0.9177071864430226,
          -0.03089918565151609,
          -0.18758203396098216,
          0.06871158669408127,
          -0.6289635756451241,
          0.019282712200196173,
          -1.313099295311691,
          -0.33092531196201064,
          -0.8501699437501088,
          -0.13764377361153252,
          -0.051750148932265684,
          -1.0735171129314107,
          0.21487469859621203,
          -0.5058851380811233,
          -0.45146163059274086,
          0.5534745210647644,
          -0.7399135645395675,
          -0.36788976014853936,
          0.49235960239487725,
          -0.2134168370089068,
          1.5935685881311985,
          2.892053904383579,
          1.551571725180019,
          2.6206856064251323,
          2.2345589509711092,
          1.5588902665146396,
          1.4563770193603698,
          2.025549631232801,
          1.1695029911223522,
          1.8145118751320704,
          1.2861882133724925,
          2.1699511604380755,
          1.6684395302975672,
          2.5059596398031463,
          1.0381968703268567,
          2.52237723580889,
          0.911480748428905,
          3.088061261281193,
          1.4607153227311813,
          2.458537615277682,
          2.81995630709031,
          1.7533456576354072,
          1.3770462455906334,
          1.6234175588716109,
          1.8546537098173097,
          1.7830433876498475,
          2.3206232599781993,
          1.5719840451551157,
          2.580275288305023,
          2.2332441263664125,
          1.1706984302866432,
          1.4577901560949593,
          3.7870183443286574,
          2.333491795986111,
          2.141822161422159,
          1.591338638322364,
          1.4627161894529788,
          1.111681664362111,
          1.7597269744096837,
          0.7098915416330761,
          2.7136114752322444,
          1.2476658954290638,
          1.8961142097436434,
          2.582491709804969,
          1.7645336222060135,
          1.1553293863178211,
          2.6035933313144906,
          1.9661930584076224,
          1.7029271430079442,
          1.6302391373472933,
          2.528245382913881,
          1.1573513263501316,
          2.4795371521564977,
          1.9040453268767967,
          1.8026551466888874,
          0.999994847607279,
          1.8911989583000361,
          0.9309190993714639,
          2.7783840348001383,
          1.0765695773136157,
          2.215980585890799,
          1.4735525165370142,
          3.378177046892772,
          1.8321665212744647,
          2.7739614606918117,
          2.8979490401526866,
          1.6822582381982047,
          2.822979785856425,
          1.7382277962311126,
          1.8854372493637117,
          2.1033808547382815,
          2.0279680792020067,
          1.5960167485938208,
          2.9049672428881546,
          1.49289255534968,
          2.7763890834319453,
          1.7327999108275272,
          2.3552842807850585,
          1.7057097193533644,
          2.6999872487992427,
          1.612515367172024,
          2.4866433981909353,
          1.5842183509561902,
          2.604784997977969,
          1.4825575446019026,
          2.658190782548019,
          1.8451430685189527,
          2.821947486018334,
          1.9407769307277443,
          2.624977477590617,
          1.492015268677731,
          2.609606222815342,
          1.5191297816881042,
          2.5735952627008976,
          1.8367803287460134,
          2.0856905694965993,
          1.29687922645771,
          2.4291343086300734,
          1.9967254153894973,
          3.089469063820611,
          1.707814300414529,
          2.861926181438015,
          1.9117344362769921,
          1.0190350608436394,
          2.6859351722272673,
          1.1261604857001541,
          1.975403372480378,
          2.101230890143303,
          3.08631267124456,
          1.1566074665109662,
          2.8799670667470227,
          1.5810728196217638,
          3.479288474875531,
          2.687992739985315,
          1.9977155798588313,
          1.8326510725103293,
          2.751505033253254,
          1.7138536561830995,
          2.018536830767448
         ],
         "y": [
          0.032069376546556866,
          -0.4435267651311413,
          -0.16123047758051948,
          -0.012351235113154805,
          0.8175981255448262,
          -0.3662229567187882,
          0.501243084471378,
          -0.24539394464540015,
          0.9982828952580765,
          0.5780819480490194,
          -0.6102442912581008,
          0.08683572648831796,
          1.2935559212983332,
          -0.6451910719722969,
          1.9724225089468066,
          -0.308968644948441,
          -0.13649314410344437,
          -0.10914406018700724,
          -0.28912799691235325,
          -0.6039325172147549,
          -0.297394980646489,
          0.1382597615899696,
          -0.18780230671662002,
          -0.2011063170424568,
          0.28554233038564864,
          -0.782580998124054,
          -0.4066950731066809,
          -0.3282863316509817,
          0.32640824225913895,
          -0.9876852633151033,
          1.0590958639832626,
          0.5482233908103701,
          0.2723945056907056,
          0.06734515079846629,
          0.35780982026605973,
          -0.5938011437355928,
          0.11750998920334411,
          -0.4494041386062345,
          1.0545864560458333,
          -0.9972710192731975,
          0.21207920021763266,
          0.3428815276212993,
          -0.6574109526886495,
          1.4382609657150656,
          -0.3395924109317395,
          0.27817059197703364,
          -0.7673276809668768,
          0.7111470798890629,
          -0.7948512247556578,
          0.24376742521377062,
          -0.4817697394058204,
          0.24715403229320762,
          -1.1896229650997288,
          0.034535965841316296,
          -1.1258972621088004,
          1.3132832361099684,
          -0.8337677368606372,
          0.08252726072722365,
          -0.996917697818107,
          0.0469928294331006,
          -1.408162572707861,
          0.4500491078363146,
          -1.232829955955691,
          0.6858866540262927,
          -0.47253374230432615,
          -0.005466397574659746,
          -0.5331574203187383,
          0.8941528134463543,
          -0.8505583959159599,
          0.41112085132860193,
          -0.5400330742679226,
          0.12217249633597065,
          -1.3560001978280265,
          0.55335068010455,
          -1.1189224174781591,
          0.1009015653978033,
          -0.18400279079822388,
          -0.07639925098660409,
          -0.5641071744845452,
          0.9081019454643527,
          0.056709917482438,
          -0.27070571820848993,
          0.16892159160683023,
          0.04003413091559208,
          -0.6354212398674433,
          0.07118863360987239,
          -1.2079974008224565,
          -0.0872793004348037,
          -0.8938812808097943,
          0.36338424445961054,
          -0.11937137523876983,
          0.14625296371815288,
          -1.762281613379782,
          0.43958124731062853,
          -0.7403470628335925,
          0.8691220593876952,
          -1.278444819455463,
          0.4668376703843273,
          -0.21381903310938585,
          0.16122199249771832,
          -0.6228126852923365,
          0.4775181858680703,
          -0.8208826890496819,
          0.70830014935627,
          -0.9544905027915754,
          1.479361613140203,
          -0.3542365660153645,
          0.7532878900306742,
          0.9152538107807598,
          0.302917228238888,
          -0.7891825688343342,
          0.5728837333950454,
          -1.0647309719285252,
          0.17430145264629043,
          -0.9486380144771416,
          0.306844795518663,
          -0.5659721214728568,
          0.22446885186458998,
          -1.5948646624767944,
          0.349638746483518,
          -0.48734729351275896,
          0.1920018130597624,
          -0.6892183524525235,
          0.33398456652306924,
          -0.3945070519314916,
          0.657034152639172,
          -0.32053423224000427,
          -0.14838516411930006,
          -0.5516778879189891,
          -0.2160040456564309,
          -0.8890823896950688,
          0.7491115954727351,
          -1.121194594435302,
          -0.17339557905021058,
          -0.5232049084223203,
          -0.4340958182130753,
          -2.096744244835535,
          -0.4790699735877679,
          -1.0018920505902467,
          0.013221756305569416,
          0.053843873596284925,
          -0.3891087658341043,
          -0.6958341967579484,
          -0.34880658304997364,
          -0.958805742145036,
          0.24693484749643202,
          0.5022970564768823,
          1.574561013651225,
          1.5709624399091633,
          0.706041688750986,
          1.976580378446819,
          0.36419217455855574,
          0.5502378546310618,
          1.1772148669849112,
          0.9153089648332182,
          1.8612242017452625,
          0.5017421045500269,
          2.0726341754470545,
          0.33043353412919013,
          1.243850743428165,
          0.11872273927417595,
          1.68634409712964,
          1.7533437622709869,
          1.740319305358398,
          0.7691616295936954,
          1.0073797270115854,
          -0.18634814043894699,
          0.5502416609832006,
          -0.4459441348538967,
          1.5892686935230056,
          0.5065005216342444,
          1.6161277585126188,
          1.1382185594204626,
          1.3092905533926749,
          0.46942122867487124,
          2.1503235594257832,
          -0.6702216020416354,
          2.6027065885309537,
          -0.439598103129126,
          1.4229549855828643,
          1.1482203225098928,
          0.20774678134496083,
          0.819697343778672,
          2.371672610540758,
          -0.05620492645395817,
          2.182018871503924,
          1.4751898132298347,
          0.319554637282535,
          1.4782349743090637,
          0.02961364906492964,
          1.0042281373524198,
          1.3119569322622213,
          0.8876597480589904,
          1.5497944130674197,
          1.3499667102492792,
          0.6411995520676259,
          0.057047467630192146,
          1.5328114381817894,
          0.18134022849189427,
          1.7496458667953212,
          -0.19665072468159897,
          1.490556293030659,
          -0.19117011393233013,
          1.676744906688311,
          1.3060769979737075,
          1.0139452254017578,
          1.7922939366991297,
          -0.018580428894291498,
          0.06544890151227667,
          2.3476116313177338,
          0.24815496651789162,
          0.9910796243620436,
          1.4848492793504633,
          1.2615537957072067,
          -1.3417957276126562,
          0.4640900116134817,
          -0.6967599315277307,
          0.01372331884699161,
          -0.5632872364648913,
          -1.1720137762366292,
          -0.8233292131776698,
          -0.35564873734915275,
          -1.578917637528694,
          -0.31057539129300404,
          -1.6954002706239013,
          0.2531349600451808,
          -1.189783320544056,
          -0.3928933065915609,
          -0.8368381347051387,
          0.15308966455020556,
          -1.704680397291564,
          -0.015907256668048396,
          -0.7767142545651237,
          -0.20129144494594248,
          -0.3287144031686518,
          -0.8761204009633718,
          -0.7801261913470046,
          -0.21307917241782806,
          -1.684814419553034,
          -0.5137459582868902,
          -0.3150719022261539,
          -0.6564703322582431,
          0.040776238930936265,
          -0.2837027410036802,
          -1.2814151558855882,
          -0.8746740100631352,
          1.8360153871007923,
          -0.2986463090286527,
          0.25555626717222435,
          -1.4804244218331215,
          0.2061225504113764,
          -1.426162233361181,
          0.03586557362011099,
          -1.5666040941845343,
          0.29658164540647275,
          -1.246707230564814,
          -0.2024012177475067,
          0.3395091757863579,
          -1.2926260135101855,
          -1.1532517613773872,
          0.3264844632634385,
          -1.375315361832124,
          -0.31021173364705706,
          -0.8490524873678414,
          -0.6337694502582782,
          -0.9757416320809494,
          -0.11994463952205449,
          -0.7714113527970545,
          -0.5158678524725864,
          -1.3314270577684273,
          -0.6276295752738544,
          -1.1401642123617446,
          0.08639731877979054,
          -1.2165535310430688,
          -0.5622344902337743,
          -1.1105933552827214,
          0.6894429939213583,
          -0.9475289997069976,
          0.6445628146641078,
          0.3777371565494502,
          -1.1999238776125287,
          -0.002514949094895051,
          -0.41124300147613824,
          -0.2853435442415329,
          -0.07798309738999537,
          -0.5809154259798524,
          -0.5588899162131982,
          0.19824323875092825,
          -0.7743168689286484,
          0.6093934492278068,
          -1.1723431762011498,
          -0.002138394444671251,
          -0.47335803906886625,
          0.4279450100339299,
          -0.6102149114498705,
          0.26635733401457,
          -1.2065589860877912,
          0.946598161429097,
          -1.1402706211773523,
          -0.28633857560676984,
          -0.8279051131434818,
          0.9640882452604473,
          -0.41337848096154584,
          1.0004784496346513,
          -0.8571703409320742,
          0.3209124372101499,
          -0.8757670795082829,
          0.2598699474973317,
          0.11618836244065724,
          -0.6467718003189827,
          -0.5945133528143981,
          0.6211163747518089,
          -0.31255849149965587,
          1.385699786424293,
          -0.2427605581542326,
          -0.18106889664346829,
          0.006149392723325677,
          -1.1994538111509745,
          0.6117804986734254,
          -1.3197407683017846,
          -0.25835274073386866,
          0.0012821370622263665,
          0.3035039897352475,
          -0.8026619281160854,
          0.6099444321293661,
          -0.9757893242456085,
          0.9174571405347692,
          0.3169209387154107,
          -0.9767714586065672,
          -0.7845099262989869,
          0.26655571537748207,
          -0.7258751584135019,
          0.33655372016632024
         ],
         "z": [
          -0.2349016613316111,
          -0.027470075994559487,
          0.18968926368999747,
          -0.6288726870329597,
          -0.7010513884665263,
          0.028460459029541762,
          -1.3350037340781877,
          0.6265541188209724,
          -1.0406150294534704,
          -2.0492974540436233,
          -0.36484556824268016,
          -0.36232107916188055,
          -1.0898644424136377,
          -0.46077076840533826,
          -0.5798770728615731,
          0.07444410197225282,
          -0.27236210560145285,
          -0.8914621800527742,
          -0.4255462668699825,
          0.034697817935347965,
          -0.8633540655640726,
          0.07670520756879018,
          0.4066389913325275,
          0.2389821840440514,
          -0.2438102279546228,
          0.6638711756040283,
          -0.38831807677538377,
          0.22016182058587244,
          -0.2274268405696064,
          -0.1078452204545021,
          -1.2903086836367588,
          -0.8507480011865644,
          0.3372327368896898,
          -0.21013383899475976,
          -0.9521566896376431,
          0.0354812470852688,
          -0.3164908761584416,
          -0.16230823401162522,
          -0.5945824192894487,
          0.3923067603380423,
          -0.9751464708561403,
          0.1577848523741708,
          -0.35745376229067555,
          -0.8628557816076147,
          0.14012668478150306,
          -0.6834333861185191,
          -0.475117137857827,
          -0.6082512171314894,
          -0.12185567275673932,
          -0.07452461891303701,
          0.07603967137942952,
          -0.31930493360219936,
          0.5763198146806825,
          -0.7173315591092202,
          0.12894641134962995,
          -1.2103418754245474,
          -0.00034222342042584454,
          -0.29766852973166,
          0.40566668433333086,
          -0.12192786925875085,
          -0.05890058983576512,
          -0.46188306173847016,
          0.20669162138141733,
          -0.8707826466074926,
          -1.000216988996914,
          -0.3615689854170374,
          0.04289998727206518,
          -0.054187071592127066,
          -0.5136613869489323,
          -0.3604145328710379,
          0.25643668300069494,
          -0.7710571606395403,
          0.032884224338479824,
          -0.38871329108195285,
          -0.1697294033997097,
          -0.5018159034920711,
          -0.6769701736757655,
          -1.390779057790276,
          -0.12610788823139502,
          -0.3946417816408108,
          -0.9262326488818524,
          -0.42307188641762217,
          -0.719468039442727,
          -0.3215244287457069,
          -0.6904504308325081,
          -0.6793241349389278,
          -0.298388260554978,
          -0.6456810643527445,
          -0.04298116754119838,
          -0.938475438682594,
          -0.4459434375115821,
          -0.7450419330627144,
          0.2983518102926322,
          -0.1523402595738987,
          -0.711254040780981,
          -1.381592208869299,
          0.6481092792542519,
          -1.1892072982559476,
          0.050302388936590885,
          -0.1110276494975837,
          -0.2725716316157362,
          -0.8845467062764826,
          0.4387649695835278,
          -0.8417585172906649,
          -0.21814581634175198,
          -0.610864029640709,
          0.2545966984290721,
          -0.6997045208255707,
          -0.8882744639155887,
          -0.21694323813591487,
          0.5819006733327714,
          -1.15855416108995,
          -0.1073873188383692,
          0.1999119118407157,
          0.08907195930421276,
          -0.7406360660529248,
          0.56781340076277,
          -0.36724060219863786,
          0.3433947042366921,
          -0.611034471430601,
          0.14889648768347968,
          -0.5068659091701169,
          0.4463019343950585,
          -0.16823452450621668,
          0.028702977253132516,
          0.04154747934851579,
          -0.4806643409722584,
          -1.2171086475958297,
          0.02361544712757437,
          -0.00194376477437226,
          -0.13237250753636512,
          -0.8947773093425729,
          0.18453286271224545,
          -0.5614993590173291,
          0.29616210177692853,
          0.36759523017226065,
          0.031518262809594404,
          0.18806433634654354,
          0.3311686936911035,
          -0.24055064147979857,
          -0.7213062471418074,
          -0.3123093029087209,
          -0.4201502000616513,
          -0.46037690227978795,
          -0.3175980724690152,
          -0.43060224449479856,
          0.8074717193679336,
          0.5109350312490536,
          0.9634704813402566,
          0.553882300456738,
          0.8755879471007258,
          0.24374869033325966,
          1.1156219629328048,
          1.0389422186902453,
          0.003086245067411584,
          0.6907333945645507,
          0.6032269807436574,
          0.6634603831308901,
          0.9671293681271681,
          0.8546845430870978,
          0.8886566839525509,
          0.35336198832194793,
          0.8626797356791341,
          2.220631951986575,
          0.7146591809476338,
          0.3471986082905003,
          0.5669577641112318,
          1.2198880961532137,
          1.226643186091901,
          0.7273978255035457,
          0.9275907131636901,
          0.6536706908299167,
          1.1084854654813765,
          0.5664965313454801,
          0.6870335876770789,
          0.10189260215328079,
          0.7352215007852204,
          0.3448578835370104,
          0.7914297748472524,
          0.5148950430634026,
          0.9081987557028477,
          0.750855114557974,
          0.5420745640428545,
          -0.41217246607763375,
          1.724843352826578,
          0.24271145139495418,
          0.1202878446087739,
          0.8327470141891219,
          0.9610479753892727,
          0.8172235555572196,
          1.1289116678948816,
          0.3324732660263609,
          1.3383991534565307,
          -0.19270320478423308,
          1.4908954735664615,
          1.0956723097906755,
          1.3312659871547228,
          0.6627886633988973,
          0.7528030542061837,
          0.3214988557949763,
          0.661498778281483,
          1.2357041816371446,
          1.1368934123813836,
          0.11345979781237397,
          0.6584305848849678,
          0.32460688827178075,
          0.5289929168457287,
          1.0861560589262527,
          0.7472285906925884,
          0.8692449422513082,
          0.316066693248093,
          0.8879961031931184,
          0.3299597903500044,
          0.765966694196665,
          0.7216766758774655,
          -0.6944660890307388,
          0.8863745985268314,
          -0.25381541271684693,
          -0.11321446759655245,
          0.6838475283441232,
          0.11534406615809925,
          -0.31263683645207563,
          0.45624817414770324,
          -0.21824506164706794,
          -0.1594576306134741,
          -0.42223668083542865,
          0.38179389699542227,
          -0.33819217394436624,
          0.6208715801624776,
          -0.5379832460633897,
          0.4487569002949179,
          -0.8401489184941935,
          0.26487057425222366,
          -0.19500867619946102,
          -0.035386242754763104,
          -0.11297834451145497,
          0.5270828658331286,
          -0.29009877330707906,
          -0.0686654454390602,
          -0.19884460601081672,
          -0.38195422420645675,
          0.67383461780355,
          -0.19881325960613416,
          -0.32944909368131947,
          0.003379236107536995,
          -0.014815098577394813,
          0.025920912001246525,
          0.09796009485787968,
          -0.4932283607054094,
          -0.16335549287849435,
          -1.0531652423927935,
          0.5489718458795461,
          -0.08875518194247398,
          0.6687488535509306,
          -0.5922143371094446,
          0.6833377467268116,
          0.4753572955480576,
          -0.3036532099344358,
          -0.11968441234177712,
          0.7371587301523963,
          -0.24386621150248206,
          0.0834929745520166,
          -0.6035250876828049,
          0.32323178173854283,
          0.06855027142653712,
          0.4346202684525736,
          0.19835949512228732,
          0.1132635463314875,
          -0.44079210103246624,
          0.49727299273360265,
          -0.258540428621339,
          0.18634601007642748,
          -0.21922919247148998,
          0.7690218626793685,
          -0.3921871419053238,
          0.5460128411721228,
          -0.03865357804890106,
          0.1876661550784509,
          -0.8262745946156439,
          -0.7883709304477095,
          -0.0998299294990509,
          -0.10209436074540525,
          0.25179688197047023,
          -0.299444707949726,
          -0.16124927242959713,
          -0.19415303954792393,
          0.13563381398354496,
          -0.8678279570426101,
          0.6299957417738928,
          -0.6171290896785643,
          0.234370756957184,
          -1.3468098136878415,
          0.6842810219541023,
          0.08710800075654934,
          0.3889994768949061,
          -0.2490282582626316,
          0.24968270660620018,
          -0.7095477674731149,
          -0.04756731719750415,
          0.4100931984663736,
          0.42029885026627445,
          -0.4885612022486688,
          0.047326284309443786,
          -0.35431142848902475,
          0.16869456928642734,
          -0.571966199737029,
          -0.09961842051616564,
          -0.03492990641531311,
          0.14978567080396624,
          0.05106662062967424,
          0.775404712108877,
          -0.19280122197684407,
          0.22171797960428505,
          -0.04449905379775784,
          -0.06403725663819954,
          -0.3379080452677458,
          -0.627426466059736,
          -0.25119662826085715,
          0.14663602787413157,
          0.21438987747868624,
          -0.1566904922411658,
          0.35394740011804426,
          -0.7985043802457961,
          -0.1614900247802493,
          -0.37077374467852403,
          0.529322894573133,
          -0.1398153361064981,
          -0.8998403289348257,
          0.37942537408253413,
          0.24075768689240737,
          -0.419306496304049,
          -0.26276382391995035,
          -0.15533071975471474
         ]
        }
       ],
       "layout": {
        "coloraxis": {
         "colorbar": {
          "title": {
           "text": "color"
          }
         },
         "colorscale": [
          [
           0,
           "#0d0887"
          ],
          [
           0.1111111111111111,
           "#46039f"
          ],
          [
           0.2222222222222222,
           "#7201a8"
          ],
          [
           0.3333333333333333,
           "#9c179e"
          ],
          [
           0.4444444444444444,
           "#bd3786"
          ],
          [
           0.5555555555555556,
           "#d8576b"
          ],
          [
           0.6666666666666666,
           "#ed7953"
          ],
          [
           0.7777777777777778,
           "#fb9f3a"
          ],
          [
           0.8888888888888888,
           "#fdca26"
          ],
          [
           1,
           "#f0f921"
          ]
         ]
        },
        "legend": {
         "tracegroupgap": 0
        },
        "scene": {
         "domain": {
          "x": [
           0,
           1
          ],
          "y": [
           0,
           1
          ]
         },
         "xaxis": {
          "title": {
           "text": "x"
          }
         },
         "yaxis": {
          "title": {
           "text": "y"
          }
         },
         "zaxis": {
          "title": {
           "text": "z"
          }
         }
        },
        "template": {
         "data": {
          "bar": [
           {
            "error_x": {
             "color": "#2a3f5f"
            },
            "error_y": {
             "color": "#2a3f5f"
            },
            "marker": {
             "line": {
              "color": "#E5ECF6",
              "width": 0.5
             },
             "pattern": {
              "fillmode": "overlay",
              "size": 10,
              "solidity": 0.2
             }
            },
            "type": "bar"
           }
          ],
          "barpolar": [
           {
            "marker": {
             "line": {
              "color": "#E5ECF6",
              "width": 0.5
             },
             "pattern": {
              "fillmode": "overlay",
              "size": 10,
              "solidity": 0.2
             }
            },
            "type": "barpolar"
           }
          ],
          "carpet": [
           {
            "aaxis": {
             "endlinecolor": "#2a3f5f",
             "gridcolor": "white",
             "linecolor": "white",
             "minorgridcolor": "white",
             "startlinecolor": "#2a3f5f"
            },
            "baxis": {
             "endlinecolor": "#2a3f5f",
             "gridcolor": "white",
             "linecolor": "white",
             "minorgridcolor": "white",
             "startlinecolor": "#2a3f5f"
            },
            "type": "carpet"
           }
          ],
          "choropleth": [
           {
            "colorbar": {
             "outlinewidth": 0,
             "ticks": ""
            },
            "type": "choropleth"
           }
          ],
          "contour": [
           {
            "colorbar": {
             "outlinewidth": 0,
             "ticks": ""
            },
            "colorscale": [
             [
              0,
              "#0d0887"
             ],
             [
              0.1111111111111111,
              "#46039f"
             ],
             [
              0.2222222222222222,
              "#7201a8"
             ],
             [
              0.3333333333333333,
              "#9c179e"
             ],
             [
              0.4444444444444444,
              "#bd3786"
             ],
             [
              0.5555555555555556,
              "#d8576b"
             ],
             [
              0.6666666666666666,
              "#ed7953"
             ],
             [
              0.7777777777777778,
              "#fb9f3a"
             ],
             [
              0.8888888888888888,
              "#fdca26"
             ],
             [
              1,
              "#f0f921"
             ]
            ],
            "type": "contour"
           }
          ],
          "contourcarpet": [
           {
            "colorbar": {
             "outlinewidth": 0,
             "ticks": ""
            },
            "type": "contourcarpet"
           }
          ],
          "heatmap": [
           {
            "colorbar": {
             "outlinewidth": 0,
             "ticks": ""
            },
            "colorscale": [
             [
              0,
              "#0d0887"
             ],
             [
              0.1111111111111111,
              "#46039f"
             ],
             [
              0.2222222222222222,
              "#7201a8"
             ],
             [
              0.3333333333333333,
              "#9c179e"
             ],
             [
              0.4444444444444444,
              "#bd3786"
             ],
             [
              0.5555555555555556,
              "#d8576b"
             ],
             [
              0.6666666666666666,
              "#ed7953"
             ],
             [
              0.7777777777777778,
              "#fb9f3a"
             ],
             [
              0.8888888888888888,
              "#fdca26"
             ],
             [
              1,
              "#f0f921"
             ]
            ],
            "type": "heatmap"
           }
          ],
          "heatmapgl": [
           {
            "colorbar": {
             "outlinewidth": 0,
             "ticks": ""
            },
            "colorscale": [
             [
              0,
              "#0d0887"
             ],
             [
              0.1111111111111111,
              "#46039f"
             ],
             [
              0.2222222222222222,
              "#7201a8"
             ],
             [
              0.3333333333333333,
              "#9c179e"
             ],
             [
              0.4444444444444444,
              "#bd3786"
             ],
             [
              0.5555555555555556,
              "#d8576b"
             ],
             [
              0.6666666666666666,
              "#ed7953"
             ],
             [
              0.7777777777777778,
              "#fb9f3a"
             ],
             [
              0.8888888888888888,
              "#fdca26"
             ],
             [
              1,
              "#f0f921"
             ]
            ],
            "type": "heatmapgl"
           }
          ],
          "histogram": [
           {
            "marker": {
             "pattern": {
              "fillmode": "overlay",
              "size": 10,
              "solidity": 0.2
             }
            },
            "type": "histogram"
           }
          ],
          "histogram2d": [
           {
            "colorbar": {
             "outlinewidth": 0,
             "ticks": ""
            },
            "colorscale": [
             [
              0,
              "#0d0887"
             ],
             [
              0.1111111111111111,
              "#46039f"
             ],
             [
              0.2222222222222222,
              "#7201a8"
             ],
             [
              0.3333333333333333,
              "#9c179e"
             ],
             [
              0.4444444444444444,
              "#bd3786"
             ],
             [
              0.5555555555555556,
              "#d8576b"
             ],
             [
              0.6666666666666666,
              "#ed7953"
             ],
             [
              0.7777777777777778,
              "#fb9f3a"
             ],
             [
              0.8888888888888888,
              "#fdca26"
             ],
             [
              1,
              "#f0f921"
             ]
            ],
            "type": "histogram2d"
           }
          ],
          "histogram2dcontour": [
           {
            "colorbar": {
             "outlinewidth": 0,
             "ticks": ""
            },
            "colorscale": [
             [
              0,
              "#0d0887"
             ],
             [
              0.1111111111111111,
              "#46039f"
             ],
             [
              0.2222222222222222,
              "#7201a8"
             ],
             [
              0.3333333333333333,
              "#9c179e"
             ],
             [
              0.4444444444444444,
              "#bd3786"
             ],
             [
              0.5555555555555556,
              "#d8576b"
             ],
             [
              0.6666666666666666,
              "#ed7953"
             ],
             [
              0.7777777777777778,
              "#fb9f3a"
             ],
             [
              0.8888888888888888,
              "#fdca26"
             ],
             [
              1,
              "#f0f921"
             ]
            ],
            "type": "histogram2dcontour"
           }
          ],
          "mesh3d": [
           {
            "colorbar": {
             "outlinewidth": 0,
             "ticks": ""
            },
            "type": "mesh3d"
           }
          ],
          "parcoords": [
           {
            "line": {
             "colorbar": {
              "outlinewidth": 0,
              "ticks": ""
             }
            },
            "type": "parcoords"
           }
          ],
          "pie": [
           {
            "automargin": true,
            "type": "pie"
           }
          ],
          "scatter": [
           {
            "fillpattern": {
             "fillmode": "overlay",
             "size": 10,
             "solidity": 0.2
            },
            "type": "scatter"
           }
          ],
          "scatter3d": [
           {
            "line": {
             "colorbar": {
              "outlinewidth": 0,
              "ticks": ""
             }
            },
            "marker": {
             "colorbar": {
              "outlinewidth": 0,
              "ticks": ""
             }
            },
            "type": "scatter3d"
           }
          ],
          "scattercarpet": [
           {
            "marker": {
             "colorbar": {
              "outlinewidth": 0,
              "ticks": ""
             }
            },
            "type": "scattercarpet"
           }
          ],
          "scattergeo": [
           {
            "marker": {
             "colorbar": {
              "outlinewidth": 0,
              "ticks": ""
             }
            },
            "type": "scattergeo"
           }
          ],
          "scattergl": [
           {
            "marker": {
             "colorbar": {
              "outlinewidth": 0,
              "ticks": ""
             }
            },
            "type": "scattergl"
           }
          ],
          "scattermapbox": [
           {
            "marker": {
             "colorbar": {
              "outlinewidth": 0,
              "ticks": ""
             }
            },
            "type": "scattermapbox"
           }
          ],
          "scatterpolar": [
           {
            "marker": {
             "colorbar": {
              "outlinewidth": 0,
              "ticks": ""
             }
            },
            "type": "scatterpolar"
           }
          ],
          "scatterpolargl": [
           {
            "marker": {
             "colorbar": {
              "outlinewidth": 0,
              "ticks": ""
             }
            },
            "type": "scatterpolargl"
           }
          ],
          "scatterternary": [
           {
            "marker": {
             "colorbar": {
              "outlinewidth": 0,
              "ticks": ""
             }
            },
            "type": "scatterternary"
           }
          ],
          "surface": [
           {
            "colorbar": {
             "outlinewidth": 0,
             "ticks": ""
            },
            "colorscale": [
             [
              0,
              "#0d0887"
             ],
             [
              0.1111111111111111,
              "#46039f"
             ],
             [
              0.2222222222222222,
              "#7201a8"
             ],
             [
              0.3333333333333333,
              "#9c179e"
             ],
             [
              0.4444444444444444,
              "#bd3786"
             ],
             [
              0.5555555555555556,
              "#d8576b"
             ],
             [
              0.6666666666666666,
              "#ed7953"
             ],
             [
              0.7777777777777778,
              "#fb9f3a"
             ],
             [
              0.8888888888888888,
              "#fdca26"
             ],
             [
              1,
              "#f0f921"
             ]
            ],
            "type": "surface"
           }
          ],
          "table": [
           {
            "cells": {
             "fill": {
              "color": "#EBF0F8"
             },
             "line": {
              "color": "white"
             }
            },
            "header": {
             "fill": {
              "color": "#C8D4E3"
             },
             "line": {
              "color": "white"
             }
            },
            "type": "table"
           }
          ]
         },
         "layout": {
          "annotationdefaults": {
           "arrowcolor": "#2a3f5f",
           "arrowhead": 0,
           "arrowwidth": 1
          },
          "autotypenumbers": "strict",
          "coloraxis": {
           "colorbar": {
            "outlinewidth": 0,
            "ticks": ""
           }
          },
          "colorscale": {
           "diverging": [
            [
             0,
             "#8e0152"
            ],
            [
             0.1,
             "#c51b7d"
            ],
            [
             0.2,
             "#de77ae"
            ],
            [
             0.3,
             "#f1b6da"
            ],
            [
             0.4,
             "#fde0ef"
            ],
            [
             0.5,
             "#f7f7f7"
            ],
            [
             0.6,
             "#e6f5d0"
            ],
            [
             0.7,
             "#b8e186"
            ],
            [
             0.8,
             "#7fbc41"
            ],
            [
             0.9,
             "#4d9221"
            ],
            [
             1,
             "#276419"
            ]
           ],
           "sequential": [
            [
             0,
             "#0d0887"
            ],
            [
             0.1111111111111111,
             "#46039f"
            ],
            [
             0.2222222222222222,
             "#7201a8"
            ],
            [
             0.3333333333333333,
             "#9c179e"
            ],
            [
             0.4444444444444444,
             "#bd3786"
            ],
            [
             0.5555555555555556,
             "#d8576b"
            ],
            [
             0.6666666666666666,
             "#ed7953"
            ],
            [
             0.7777777777777778,
             "#fb9f3a"
            ],
            [
             0.8888888888888888,
             "#fdca26"
            ],
            [
             1,
             "#f0f921"
            ]
           ],
           "sequentialminus": [
            [
             0,
             "#0d0887"
            ],
            [
             0.1111111111111111,
             "#46039f"
            ],
            [
             0.2222222222222222,
             "#7201a8"
            ],
            [
             0.3333333333333333,
             "#9c179e"
            ],
            [
             0.4444444444444444,
             "#bd3786"
            ],
            [
             0.5555555555555556,
             "#d8576b"
            ],
            [
             0.6666666666666666,
             "#ed7953"
            ],
            [
             0.7777777777777778,
             "#fb9f3a"
            ],
            [
             0.8888888888888888,
             "#fdca26"
            ],
            [
             1,
             "#f0f921"
            ]
           ]
          },
          "colorway": [
           "#636efa",
           "#EF553B",
           "#00cc96",
           "#ab63fa",
           "#FFA15A",
           "#19d3f3",
           "#FF6692",
           "#B6E880",
           "#FF97FF",
           "#FECB52"
          ],
          "font": {
           "color": "#2a3f5f"
          },
          "geo": {
           "bgcolor": "white",
           "lakecolor": "white",
           "landcolor": "#E5ECF6",
           "showlakes": true,
           "showland": true,
           "subunitcolor": "white"
          },
          "hoverlabel": {
           "align": "left"
          },
          "hovermode": "closest",
          "mapbox": {
           "style": "light"
          },
          "paper_bgcolor": "white",
          "plot_bgcolor": "#E5ECF6",
          "polar": {
           "angularaxis": {
            "gridcolor": "white",
            "linecolor": "white",
            "ticks": ""
           },
           "bgcolor": "#E5ECF6",
           "radialaxis": {
            "gridcolor": "white",
            "linecolor": "white",
            "ticks": ""
           }
          },
          "scene": {
           "xaxis": {
            "backgroundcolor": "#E5ECF6",
            "gridcolor": "white",
            "gridwidth": 2,
            "linecolor": "white",
            "showbackground": true,
            "ticks": "",
            "zerolinecolor": "white"
           },
           "yaxis": {
            "backgroundcolor": "#E5ECF6",
            "gridcolor": "white",
            "gridwidth": 2,
            "linecolor": "white",
            "showbackground": true,
            "ticks": "",
            "zerolinecolor": "white"
           },
           "zaxis": {
            "backgroundcolor": "#E5ECF6",
            "gridcolor": "white",
            "gridwidth": 2,
            "linecolor": "white",
            "showbackground": true,
            "ticks": "",
            "zerolinecolor": "white"
           }
          },
          "shapedefaults": {
           "line": {
            "color": "#2a3f5f"
           }
          },
          "ternary": {
           "aaxis": {
            "gridcolor": "white",
            "linecolor": "white",
            "ticks": ""
           },
           "baxis": {
            "gridcolor": "white",
            "linecolor": "white",
            "ticks": ""
           },
           "bgcolor": "#E5ECF6",
           "caxis": {
            "gridcolor": "white",
            "linecolor": "white",
            "ticks": ""
           }
          },
          "title": {
           "x": 0.05
          },
          "xaxis": {
           "automargin": true,
           "gridcolor": "white",
           "linecolor": "white",
           "ticks": "",
           "title": {
            "standoff": 15
           },
           "zerolinecolor": "white",
           "zerolinewidth": 2
          },
          "yaxis": {
           "automargin": true,
           "gridcolor": "white",
           "linecolor": "white",
           "ticks": "",
           "title": {
            "standoff": 15
           },
           "zerolinecolor": "white",
           "zerolinewidth": 2
          }
         }
        },
        "title": {
         "text": "3D com correção de escala"
        }
       }
      }
     },
     "metadata": {},
     "output_type": "display_data"
    }
   ],
   "source": [
    "pca = PCA(n_components=3)\n",
    "dados = pca.fit_transform(padronizado)\n",
    "px.scatter_3d(x=dados[:,0], y=dados[:,1], z=dados[:,2], color=especies, title=\"3D com correção de escala\")\n"
   ]
  },
  {
   "cell_type": "code",
   "execution_count": 8,
   "metadata": {},
   "outputs": [
    {
     "name": "stdout",
     "output_type": "stream",
     "text": [
      "333\n"
     ]
    },
    {
     "data": {
      "text/plain": [
       "<Axes: title={'center': '2D sem correção de escala'}>"
      ]
     },
     "execution_count": 8,
     "metadata": {},
     "output_type": "execute_result"
    },
    {
     "data": {
      "image/png": "[encoded data removed]",
      "text/plain": [
       "<Figure size 1200x800 with 1 Axes>"
      ]
     },
     "metadata": {},
     "output_type": "display_data"
    }
   ],
   "source": [
    "pca = PCA(n_components=2)\n",
    "dados = pca.fit_transform(df.iloc[:,2:-1])\n",
    "print(len(dados))\n",
    "plt.title(\"2D sem correção de escala\")\n",
    "sns.scatterplot(x=dados[:,0], y =dados[:,1], hue=especies, palette=\"deep\")\n"
   ]
  },
  {
   "cell_type": "code",
   "execution_count": 9,
   "metadata": {},
   "outputs": [
    {
     "data": {
      "application/vnd.plotly.v1+json": {
       "config": {
        "plotlyServerURL": "https://plot.ly"
       },
       "data": [
        {
         "hovertemplate": "x=%{x}<br>y=%{y}<br>z=%{z}<br>color=%{marker.color}<extra></extra>",
         "legendgroup": "",
         "marker": {
          "color": [
           0,
           0,
           0,
           0,
           0,
           0,
           0,
           0,
           0,
           0,
           0,
           0,
           0,
           0,
           0,
           0,
           0,
           0,
           0,
           0,
           0,
           0,
           0,
           0,
           0,
           0,
           0,
           0,
           0,
           0,
           0,
           0,
           0,
           0,
           0,
           0,
           0,
           0,
           0,
           0,
           0,
           0,
           0,
           0,
           0,
           0,
           0,
           0,
           0,
           0,
           0,
           0,
           0,
           0,
           0,
           0,
           0,
           0,
           0,
           0,
           0,
           0,
           0,
           0,
           0,
           0,
           0,
           0,
           0,
           0,
           0,
           0,
           0,
           0,
           0,
           0,
           0,
           0,
           0,
           0,
           0,
           0,
           0,
           0,
           0,
           0,
           0,
           0,
           0,
           0,
           0,
           0,
           0,
           0,
           0,
           0,
           0,
           0,
           0,
           0,
           0,
           0,
           0,
           0,
           0,
           0,
           0,
           0,
           0,
           0,
           0,
           0,
           0,
           0,
           0,
           0,
           0,
           0,
           0,
           0,
           0,
           0,
           0,
           0,
           0,
           0,
           0,
           0,
           0,
           0,
           0,
           0,
           0,
           0,
           0,
           0,
           0,
           0,
           0,
           0,
           0,
           0,
           0,
           0,
           0,
           0,
           1,
           1,
           1,
           1,
           1,
           1,
           1,
           1,
           1,
           1,
           1,
           1,
           1,
           1,
           1,
           1,
           1,
           1,
           1,
           1,
           1,
           1,
           1,
           1,
           1,
           1,
           1,
           1,
           1,
           1,
           1,
           1,
           1,
           1,
           1,
           1,
           1,
           1,
           1,
           1,
           1,
           1,
           1,
           1,
           1,
           1,
           1,
           1,
           1,
           1,
           1,
           1,
           1,
           1,
           1,
           1,
           1,
           1,
           1,
           1,
           1,
           1,
           1,
           1,
           1,
           1,
           1,
           1,
           2,
           2,
           2,
           2,
           2,
           2,
           2,
           2,
           2,
           2,
           2,
           2,
           2,
           2,
           2,
           2,
           2,
           2,
           2,
           2,
           2,
           2,
           2,
           2,
           2,
           2,
           2,
           2,
           2,
           2,
           2,
           2,
           2,
           2,
           2,
           2,
           2,
           2,
           2,
           2,
           2,
           2,
           2,
           2,
           2,
           2,
           2,
           2,
           2,
           2,
           2,
           2,
           2,
           2,
           2,
           2,
           2,
           2,
           2,
           2,
           2,
           2,
           2,
           2,
           2,
           2,
           2,
           2,
           2,
           2,
           2,
           2,
           2,
           2,
           2,
           2,
           2,
           2,
           2,
           2,
           2,
           2,
           2,
           2,
           2,
           2,
           2,
           2,
           2,
           2,
           2,
           2,
           2,
           2,
           2,
           2,
           2,
           2,
           2,
           2,
           2,
           2,
           2,
           2,
           2,
           2,
           2,
           2,
           2,
           2,
           2,
           2,
           2,
           2,
           2,
           2,
           2,
           2,
           2
          ],
          "coloraxis": "coloraxis",
          "symbol": "circle"
         },
         "mode": "markers",
         "name": "",
         "scene": "scene",
         "showlegend": false,
         "type": "scatter3d",
         "x": [
          -457.3250731464964,
          -407.2522047058528,
          -957.0446757976456,
          -757.1158016449422,
          -557.1773024372173,
          -582.3093194185981,
          467.77219749206506,
          -1007.2323344667739,
          -407.18422125821826,
          192.83176912403087,
          -507.2670577804279,
          -757.0770599286957,
          292.8362489122601,
          -882.24520548278,
          -7.15901000813119,
          -807.3927340533496,
          -607.327253561376,
          -407.2231102349024,
          -257.29202995130163,
          -407.34594333771656,
          -407.2555549284398,
          -657.2637391314465,
          -1007.1591099251718,
          -1057.392038198711,
          -257.35971887806136,
          -957.3046850066094,
          -307.3961887582068,
          -907.1602154793086,
          -307.2911332376866,
          -882.0684430803099,
          -57.149174495614716,
          -257.21584853933246,
          -657.3028022821136,
          -907.2759148089076,
          442.611139624908,
          -1057.2450045551109,
          -307.1238163692801,
          -1107.1805989238806,
          192.84102612340484,
          -1207.1775310133753,
          392.7080587611772,
          -782.2618783631924,
          -757.1625714420015,
          -57.21285286394141,
          -707.2149135702248,
          92.71679293221405,
          -757.1665746036756,
          -157.06292815730694,
          -1307.1461226430279,
          -507.1575987820661,
          -657.223290788048,
          -407.1430554546928,
          -1357.221345926639,
          -457.1340105042659,
          -1057.2013536823733,
          192.81300666517382,
          -607.2497187843855,
          -157.18658675621782,
          -1357.1767397643712,
          -257.1719419373776,
          -857.0742255571326,
          -107.2546100264708,
          -1157.1118216425189,
          242.8563480581788,
          -607.1924676650115,
          -307.2041925839103,
          -657.0685971192829,
          -57.105019561201516,
          -507.1951422232978,
          42.840631217422924,
          -507.157522573807,
          -307.30652209951813,
          -657.2176890351916,
          -207.13183266074475,
          -1007.1515314552403,
          492.80140929903155,
          -407.2498350693686,
          -7.215414930456973,
          -857.1296449791917,
          -657.0957592537075,
          -407.2066607210577,
          -707.1811773592194,
          -257.23212120570633,
          -607.1706197265166,
          -656.9939656274851,
          92.98002686079144,
          -807.239420854044,
          242.6667071596603,
          -907.1880432965527,
          93.02348609254204,
          -507.18600376294853,
          142.8334054880479,
          -1307.2861693410405,
          -107.18473260115934,
          -482.1703195334662,
          517.8942916447568,
          -1132.213388279782,
          42.74291118134988,
          -1282.045024865964,
          -657.2524937277781,
          -457.0518413839791,
          -307.2120442500627,
          -1032.2557428096516,
          567.8068794572946,
          -382.0775387624917,
          392.74554078766505,
          -1007.0709143049094,
          67.86436099472121,
          -307.19205330545446,
          -132.12262203397268,
          -1307.1132453728032,
          -432.0639578673022,
          -857.1655156707652,
          -882.1426424282299,
          -1057.1693093050035,
          -707.0426090963906,
          -757.3574429314317,
          -332.01206498036163,
          -1157.174594016029,
          -207.07694378109682,
          -932.1141000918146,
          92.82945178642785,
          -1157.0847944576094,
          -206.8946383670259,
          -882.1370480721316,
          -707.0354939743434,
          -707.1206840532282,
          267.8522648117496,
          -782.1962990532397,
          -307.1975492630186,
          -1032.1143824038963,
          -232.06151716527484,
          -807.2267187726566,
          42.7985249178837,
          -807.0930448728022,
          -732.1920356044179,
          -1157.1561529915925,
          -482.1768517120918,
          -1207.069852800641,
          -557.2522829006843,
          42.75013166587996,
          -732.2550170859186,
          -757.0864832724847,
          -457.1472500920131,
          -507.2382625536238,
          -207.0423746772367,
          -707.096355335982,
          -307.0730624945245,
          -557.082064796869,
          -682.1655635582124,
          -482.02568405687043,
          -257.06613240574916,
          -957.2799956304743,
          -457.03254465270993,
          -57.13460802358259,
          -507.01310627544717,
          -407.11788215737306,
          -432.0820542105298,
          -507.2248477353801,
          -157.00608593502284,
          -632.1375321452924,
          -157.0138221684474,
          -906.9827699270149,
          -507.2421683100347,
          -757.1217465896843,
          192.84797919149787,
          -607.2916280959639,
          -807.0906694565338,
          -1307.1095636455502,
          -407.1037164343179,
          -907.0251463164782,
          -57.08031539155036,
          -806.9469511015136,
          -407.0012963497443,
          -507.1366595118757,
          342.9936396991843,
          -1007.1560080350441,
          92.96857340564566,
          -857.1683369679149,
          -106.98671421734798,
          -607.0511819781927,
          -307.03437007299135,
          -357.0902732508948,
          593.0345709461717,
          -1506.9939544654712,
          293.00276353135814,
          -256.87054817946273,
          -557.191685849185,
          -657.0255546141898,
          -707.0385414136767,
          -532.0396848871437,
          242.93899904986665,
          -807.0999206761235,
          93.11628217860743,
          -957.1222047948522,
          -532.0130066739043,
          -881.9601353029266,
          -256.9971143540274,
          -607.0960830941458,
          -156.98274787412447,
          -857.1690295642802,
          -756.9923972859251,
          -957.0842224366884,
          -156.9885831659235,
          -406.9678741764019,
          -682.0744036708238,
          -256.9197172000395,
          -557.1577405301891,
          -557.0715538875215,
          -206.89546280660943,
          -806.9442378403332,
          -432.1032313101241,
          -106.88138388363313,
          -432.0254338399686,
          293.0720414118641,
          1493.2238232570626,
          243.07242237658465,
          1493.0427584487725,
          1193.025612365418,
          343.0518956447195,
          593.0303860228632,
          993.1066889926178,
          193.04262497155378,
          943.0524018729002,
          443.0776128907728,
          1343.025945856656,
          443.0960274344734,
          1642.9424546908485,
          -6.908733024538378,
          1643.0055659657828,
          -56.91646909262272,
          2093.01066532622,
          593.0033148902139,
          1143.1418912646723,
          1493.044597975655,
          793.065253951424,
          193.1149435183388,
          843.0623509337001,
          793.0580630539271,
          893.056152144185,
          1442.9948049027453,
          393.05157137147125,
          1343.0916506695821,
          1043.1484683454219,
          493.0024628112533,
          842.9374913862875,
          1843.2180022761231,
          943.1382744779048,
          1193.1027098424502,
          743.0319866006175,
          1043.0889668799418,
          143.03620795818733,
          1142.9284750052975,
          -256.91946209452544,
          1493.146595553787,
          93.07789191662505,
          543.1289164940472,
          1343.1233487487698,
          693.1027432725423,
          -6.9091259439474015,
          1193.187550949665,
          893.023037044557,
          1093.026916524489,
          643.0142508141507,
          1093.1180620511714,
          193.0638708826491,
          793.2366380697349,
          693.1137752777586,
          843.1335812912239,
          93.04126721394368,
          793.1422507892448,
          243.01955416175133,
          1343.1540301236828,
          -6.940200238270336,
          1093.1231258648586,
          193.12762813272275,
          1443.2631301822585,
          493.16641776985307,
          1493.2224454610905,
          1593.1943301890478,
          493.1724050453604,
          1343.1403828230104,
          543.1213104868657,
          793.1603555857437,
          893.1551489042095,
          993.0760764292045,
          493.122312562964,
          1593.2061527563537,
          393.0336900436687,
          1793.039044143683,
          543.0974932280542,
          1743.0670998854257,
          418.08222935310096,
          1243.1289191954902,
          518.0628961729799,
          1143.1765610077437,
          543.0507086374782,
          1393.2078947369582,
          393.15379714157007,
          1093.0987663764154,
          668.0453705266909,
          1343.2500404263074,
          743.1260742041513,
          1193.2385547738531,
          543.0523025053899,
          1443.1370914438085,
          643.0660452004286,
          993.2290020560758,
          718.1054707479325,
          668.1942215068993,
          417.9427916464365,
          1043.2078788091258,
          643.1576842857312,
          1393.2286571596787,
          768.0756093568007,
          1293.2161566873947,
          1293.0081505398894,
          493.0126767171314,
          1293.0956958945526,
          368.0050161758718,
          1292.9233416931947,
          793.1012575427285,
          1743.1772588769109,
          443.0710950728544,
          1293.2546527446693,
          168.1780855833149,
          1643.2259671209613,
          1793.0603413992758,
          718.068698784813,
          643.090908750547,
          1543.0983545529616,
          992.9948995822397,
          1193.0025836189116
         ],
         "y": [
          -13.3515865392378,
          -9.1791128307285,
          8.160443760582012,
          1.8676531993581307,
          -3.3891578247769587,
          -11.37265168183869,
          -14.726472713704098,
          -3.029594874410577,
          -5.078771527472043,
          -9.172613657583781,
          -9.511597529309057,
          4.419347665062105,
          -9.130825070651255,
          -5.315776549890131,
          -6.1983518745841195,
          -14.835747850736468,
          -12.384564583664698,
          -7.654211080916724,
          -12.956062673950257,
          -15.046491986119449,
          -9.706808208968724,
          -7.83349624384789,
          1.4704961063434325,
          -12.787703838242436,
          -17.008913801725285,
          -8.022297012241864,
          -19.094285979324923,
          0.5317434070923355,
          -12.321182159203147,
          5.823331578356573,
          -5.661765610569489,
          -8.21179446971776,
          -10.144594252305524,
          -6.809952200052749,
          -24.477522915400257,
          -3.747160384873297,
          -1.9307200374343836,
          0.6097975370227005,
          -7.904973450406288,
          1.696191039291108,
          -18.068218899491228,
          -6.687511142881107,
          -1.0648817925296896,
          -9.398401284262476,
          -4.458133017557429,
          -15.089243239676549,
          -1.3841595203439567,
          0.7170396785631681,
          4.252566532966114,
          -2.3872882085915705,
          -5.418181197966277,
          -2.344697246276098,
          0.1459900831739276,
          -1.599191263757632,
          -1.0764231567402476,
          -9.86408000730728,
          -7.5511396766302425,
          -7.0057474888047295,
          2.901265670878331,
          -5.257037018745052,
          5.212534123294233,
          -11.643930818269169,
          5.302900624892345,
          -7.512024264261299,
          -4.316161546243507,
          -6.999637414828669,
          4.234863451675409,
          -2.419925663024941,
          -5.119036893750206,
          -6.801806684627763,
          -2.39060151636275,
          -13.545933517709273,
          -5.247029916825227,
          -3.148154363021689,
          1.5346355347892882,
          -12.820833208037072,
          -9.251134636910066,
          -10.439641667627455,
          1.87410848202245,
          2.6213234915616397,
          -6.609011873787296,
          -2.5677185346448255,
          -9.245497684035271,
          -2.5746923098090804,
          8.58145654040868,
          1.3397328942021716,
          -5.5658200500498936,
          -19.4240419792266,
          -1.4219917044611634,
          4.005098676987728,
          -4.384447085738401,
          -8.228160728718933,
          -4.5126086018379965,
          -7.147169569708353,
          -3.819255544391382,
          -7.424023863192957,
          -1.0680130988267251,
          -13.246178497277668,
          10.563015769120796,
          -7.203358082877031,
          3.6028086501098358,
          -7.617510056448708,
          -4.4859363895223225,
          -13.081870632930816,
          1.3816441077372588,
          -15.339281454025837,
          6.893697682487613,
          -5.586061626762358,
          -6.287772133979672,
          -3.122343900960516,
          6.600679876669659,
          2.5082252260565667,
          -0.4543426082504993,
          1.5237265970267515,
          0.9442461985303225,
          6.075367988420027,
          -12.855345812677754,
          5.249883998632299,
          1.3660299858141798,
          0.1557832998144022,
          3.549171154917616,
          -7.985349274506575,
          7.192780190883013,
          11.739069007307876,
          1.6979401519000135,
          6.908033861969386,
          1.1832079471312795,
          -8.256138865413774,
          -2.806045905864039,
          -6.4744858178206925,
          4.107869278945799,
          1.2690078247219105,
          -4.555878347895089,
          -9.626543872859429,
          3.9620408652763217,
          -2.7589636238112973,
          2.29809279278399,
          -3.808294468501458,
          8.405455738272053,
          -8.037642710665182,
          -12.67760313467636,
          -6.9709186985715235,
          3.6615148373875286,
          -2.392030562367836,
          -7.755286143447535,
          2.3736417711600097,
          3.3887680502820103,
          1.8546451495113274,
          3.3943885787347767,
          -1.1990105016806751,
          6.384661805465214,
          1.5709865597819714,
          -6.045335305447622,
          5.68370351144506,
          -4.243154868181506,
          7.26545613374509,
          -0.3421833482038039,
          2.405482136020879,
          -6.147685394447279,
          4.974945875726945,
          0.2008181128869353,
          4.36575798722555,
          12.28075967711328,
          -6.453223655522436,
          2.1948133049081093,
          -7.089928117133212,
          -9.818830343916588,
          4.690222242940706,
          7.1605540617302665,
          0.7959715131546545,
          9.426654921754448,
          -0.44908850369509423,
          13.7424962987387,
          7.084301652551602,
          -0.7214215445708874,
          0.9810167505865195,
          1.7111089880117731,
          1.5136132929263795,
          -0.1442845504768684,
          5.696108576843841,
          5.608588533620974,
          4.121566290258727,
          1.0349043147789416,
          1.4532579235149683,
          16.202997731272063,
          1.9990469631327983,
          13.959109626775444,
          -3.747541282258993,
          7.677691466722081,
          6.921822601974583,
          5.817280879252053,
          -1.7297348097856968,
          4.222785219609193,
          10.336552274672982,
          4.127222037393551,
          7.40526864808777,
          13.385159013934441,
          6.276918560885633,
          2.557294662187104,
          6.308013530389189,
          -0.19639306918884358,
          10.634051247511593,
          6.0723216690944355,
          5.84365520521186,
          9.212250318978363,
          4.465306024209809,
          11.11084553599801,
          -1.5820423636643568,
          3.6845826223049016,
          12.487665740519788,
          13.420691214114186,
          0.9738363477431733,
          12.219680152561637,
          5.839691095636965,
          5.879524488415996,
          5.922360213065076,
          6.473792477263004,
          -5.3046160069461905,
          -4.12561010820329,
          4.251787894868386,
          0.8193372355390238,
          2.4351356130838155,
          4.652794693494457,
          -0.5299398187346753,
          4.6489305143947774,
          -5.231588113675059,
          6.117608062340423,
          -12.838616879408434,
          9.433718550796328,
          -8.87262970724204,
          9.101846519365012,
          -12.159623662609732,
          -0.8036405798102919,
          3.5641345511560303,
          -5.16259768331534,
          1.36300397192187,
          9.353120639633687,
          0.8473844047987313,
          0.7821795143917711,
          0.05847108110893373,
          -8.034433578021805,
          3.9392309572457123,
          -1.068662859472596,
          4.671478325893901,
          -0.29142849510762403,
          -6.971186080913441,
          3.4256757785481966,
          4.974219350748712,
          0.6911983947107103,
          -0.4669460234263454,
          0.7412507267800663,
          4.7012282713250215,
          -9.697567222591957,
          10.564290871708664,
          1.1029915044967709,
          7.780540365041958,
          7.629127606640509,
          0.9259522364419581,
          4.394982749547069,
          9.398728504282701,
          6.1141325123939225,
          -2.0554213868516626,
          -3.4330763455849933,
          -0.49218390392647393,
          2.4858928360179675,
          6.084189447733223,
          12.351392598997052,
          5.277464394615151,
          5.184774247913424,
          5.397169516363789,
          6.165003174252831,
          2.795941211090394,
          2.8332177330919706,
          7.456472961119061,
          2.6256184124555375,
          10.09334935145398,
          9.076756386695735,
          10.101828441932327,
          5.815080901908885,
          3.25616162700166,
          10.311032043319216,
          2.0115129354325347,
          7.02249992379339,
          7.343786985933406,
          6.346784796083853,
          0.5276190823948639,
          7.393289927592434,
          3.92972355356585,
          2.7808789255346653,
          -7.876964339682019,
          5.384980266321975,
          -6.152909510868142,
          5.7033706317818655,
          2.2187216759820103,
          3.580211641463734,
          5.796802323084677,
          2.45856982189855,
          5.7755522133255965,
          9.946352113496232,
          1.484100970059842,
          1.306694783084339,
          8.889603319517192,
          5.702324929119527,
          9.383314738333354,
          2.5893431867564516,
          0.9046876531945713,
          2.568078603509065,
          10.314231912165667,
          4.74531536127671,
          10.498443381280907,
          -3.003320402806878,
          8.61114378024331,
          8.536847132208749,
          7.42992288453442,
          2.339565194123992,
          7.004231497685822,
          -6.091690440268593,
          0.2574846140630598,
          -0.18423367589952022,
          0.9066651245711341,
          -11.251036115081646,
          3.9698528056480313,
          1.020446054829108,
          4.405238934572196,
          9.544681004616876,
          13.459171360181728,
          5.219177734401029,
          -6.7155336098167595,
          2.338199424857862,
          4.280698765316288,
          -2.2320102299325697,
          -4.605153840562252,
          -5.417312134848515
         ],
         "z": [
          1.2365603159591334,
          -0.048920850432566,
          -2.5257813273140517,
          -4.908889508946796,
          -1.150966382574726,
          0.7887483306152117,
          -1.8535244614844828,
          2.0850953037007454,
          -1.8729282297290268,
          -7.167099895317413,
          -2.519211817188557,
          -3.680088178106285,
          0.6198945451385516,
          -4.586648687075723,
          4.634653664612074,
          1.7288088570748599,
          0.06856306666560208,
          -4.092952910926208,
          -0.7108123386722216,
          1.0944340531933783,
          -4.090680469591419,
          1.8164062775138152,
          0.037735570268832674,
          2.217636057057744,
          3.095641741337573,
          1.7215913369999711,
          0.4324464751046406,
          -1.1195575457372797,
          2.199582694730763,
          -6.263500409612405,
          -2.485929763195964,
          -1.3974627030318292,
          4.223549989800285,
          -0.5548893267018293,
          1.9701727556464874,
          -2.238730112337775,
          -1.3238796860688673,
          -3.909680036034459,
          2.1830022371765363,
          -2.9980280697427126,
          -0.14437330741779775,
          2.5205127130250116,
          -4.854497951404607,
          1.9723897602177072,
          -0.22227886774465766,
          0.6402553449606234,
          -5.795762700365376,
          -1.4059505710151665,
          -5.891786895098896,
          0.2833156262944154,
          -0.7641311875121986,
          -0.9475659661827223,
          -2.446665889812234,
          -4.085007127727046,
          -4.066255778195174,
          0.05494351606392733,
          -1.797153880185176,
          0.0005868383701770341,
          -3.384114561077709,
          0.3387092772629483,
          -7.20033177463737,
          1.4031970991159461,
          -5.550911565625931,
          -0.5838293641154095,
          -6.8932990852654115,
          -0.833321587685365,
          -3.294619420801297,
          3.103339168807855,
          -5.123900801470629,
          0.9357377100395325,
          -0.4474073772952867,
          -1.2108494794492621,
          -3.907155060579882,
          0.10452182014255129,
          -6.227252533260565,
          1.0608784015224586,
          -2.7873593004413024,
          -5.62338130190642,
          -4.05410409839633,
          -0.6361557574280354,
          -3.9782884376050873,
          -3.5492179687282714,
          -1.678501048223838,
          -1.8393683996671921,
          -8.68109529327699,
          -3.722303436855448,
          -5.378479450644345,
          0.8198233294132109,
          -3.9927887498345527,
          -4.804656619728192,
          -2.517668180828041,
          -1.6190030500127683,
          -4.75183835151061,
          2.0723967377715162,
          -6.121212243067873,
          -2.4911634229609536,
          -1.7811000985304304,
          -2.027894521599542,
          -4.424475794146463,
          0.7074265771859487,
          -4.944231809510896,
          -2.0140270408071252,
          -0.5461086993026782,
          1.3180689058903674,
          -5.133112442709681,
          5.414767512823166,
          -2.575314374378106,
          -0.06900333008402093,
          -0.9002999009453809,
          0.32620320250951984,
          -2.4967355621524074,
          -5.665140418926718,
          -5.065343802997113,
          0.22277476751100522,
          -4.162654694426042,
          -5.369521196852716,
          3.2414267819489027,
          -2.906903152633337,
          -5.090183787870927,
          -2.54258424048583,
          -2.748814166343367,
          -0.26499993400054755,
          -2.865933311320811,
          -2.7497409220015037,
          -2.630849799999801,
          -0.06819856438628058,
          -4.878553380811574,
          -5.040600219450006,
          -2.031523567627101,
          0.35440374630504223,
          -5.878921819210465,
          -3.0912384753730393,
          -2.641382080131816,
          -1.458500159212484,
          -1.984156922672124,
          0.3156458755938072,
          -8.676282156125296,
          -0.275668759650026,
          -4.866427175585915,
          -0.1819365935268955,
          -0.91241658458393,
          -2.360449774165504,
          -6.394896753039905,
          -3.7360591074364464,
          -3.795496751225887,
          -2.378073092292084,
          4.470207672186154,
          7.1895104132667065,
          9.026348300080802,
          4.7970744854806995,
          9.287764599801646,
          1.8672242280433728,
          8.150680871065468,
          7.764705025136599,
          3.9019718474961476,
          7.65335082200404,
          4.555527733632253,
          9.386122329558738,
          7.197694175028609,
          7.4992143426149624,
          4.477940949144392,
          6.30405941009824,
          6.617281509695559,
          18.84461326836412,
          5.035801793552107,
          7.071900130400087,
          3.9850248108036617,
          6.49651814017822,
          2.0804742299353425,
          8.55177839979472,
          3.535669075038733,
          8.953630091759575,
          5.762384172621808,
          5.322260207221553,
          4.8740435359385526,
          7.824061676484008,
          0.2263982377186302,
          10.219160175986843,
          1.9022877806473506,
          6.100521708921635,
          6.77144260807883,
          3.5306430038566052,
          5.0104656390705475,
          5.905274352834013,
          3.829982525254467,
          8.416692032962743,
          2.0273930504318347,
          5.811396117354942,
          7.61621235095965,
          2.1781381508784587,
          7.572332319217208,
          6.841938468632632,
          8.365529520543365,
          1.7941012197225614,
          10.559049132395813,
          5.839864490094452,
          3.4418408190665257,
          6.960889830995473,
          3.4289201089973904,
          5.896382110389226,
          1.988984657017122,
          8.38770724517801,
          3.104882688856504,
          4.607510420634071,
          5.341866843808041,
          3.255334604349187,
          5.977820280210327,
          5.621280443885642,
          2.8269974303152132,
          9.438716863292978,
          -1.4801972371845729,
          7.411217153894988,
          3.804838666782935,
          6.5222740780059265,
          -1.3479214154977956,
          -1.7843307362480338,
          1.4827966224040843,
          1.7190033637841893,
          -0.036441726535240804,
          -0.5710717248816906,
          -1.4936810978478121,
          -2.1959655768278754,
          -3.447795001699575,
          -0.9184356531434155,
          -6.930403841266649,
          1.3627471930776895,
          -2.600585996047121,
          1.8076486765140523,
          -1.4336511946015555,
          1.5929717661310612,
          -5.221207002395886,
          0.672087832057489,
          -0.14473904917802116,
          -1.1024881658439334,
          1.7772109990216904,
          -2.804047506127901,
          -1.4975629894728026,
          -1.434881086841628,
          -5.077122665371064,
          -1.6724749039996762,
          0.48308606222593475,
          1.1964796719101471,
          0.9676566490864875,
          -2.494970832396781,
          -3.4919986106272027,
          -0.3107231021445216,
          7.715595628331961,
          -0.36617292914375454,
          -0.549288620497645,
          -4.714230973192219,
          -4.020079423139556,
          -2.506626342587886,
          3.256866812798787,
          -4.130264944032657,
          -0.6782357517768922,
          -1.9307179068389093,
          0.939673954728077,
          0.9146061710405125,
          -5.016632211632643,
          -1.8171769750545117,
          -0.15637988750022203,
          -2.451703502965776,
          -2.211244868704254,
          -0.06496596382782904,
          -0.8766616690884188,
          -1.914213524068641,
          -1.0773750088299288,
          -2.214717042671605,
          -4.242272500310811,
          -2.7033363425940014,
          -3.881243531809119,
          -3.025981850404154,
          0.12340309087852042,
          -1.4094996753454971,
          -3.2311646209865543,
          -2.6424615294592524,
          1.8194154550665775,
          -3.720103008225582,
          -1.9003362890653825,
          -1.8606117488776306,
          -6.190201795283404,
          0.6676239418299392,
          -0.8487290682973754,
          -3.2525982458227176,
          -1.454710720895653,
          -1.8460861946987013,
          -2.1241787303452178,
          -3.0418388461803048,
          0.8283347326907133,
          2.61379206248254,
          -3.0700948289907686,
          -3.8925955587340653,
          1.488039920068049,
          2.9553661184275377,
          0.005950303027388415,
          -0.3736278859313735,
          -2.4369046603347986,
          -0.3800553910313553,
          -5.74866055929111,
          2.3837088362928203,
          0.16879636675022347,
          0.1380551271377808,
          -1.440139793390296,
          0.7015943451284272,
          -1.7709994551936052,
          -0.5045283712287816,
          -3.190133997462901,
          -0.4153112396453533,
          1.0483360494915779,
          -3.3611642507371364,
          3.561413896433155,
          0.3396593730494821,
          -0.90767588567528,
          4.377046390483672,
          -0.708799483560087,
          -2.416154467146473,
          -0.4546508785867758,
          -4.760332301957302,
          4.493588568577129,
          -2.874589051485785,
          2.4556376878010013,
          2.074738629576906,
          -1.4661642971777589,
          -3.961183438596155,
          -0.5796555664022556,
          -3.084402533732572,
          3.128187510463519,
          -0.17594606841832494,
          -0.7155057366201767,
          -1.3882128568810526,
          0.9988026909498817,
          -1.5437810461073642,
          2.9700385952900525
         ]
        }
       ],
       "layout": {
        "coloraxis": {
         "colorbar": {
          "title": {
           "text": "color"
          }
         },
         "colorscale": [
          [
           0,
           "#0d0887"
          ],
          [
           0.1111111111111111,
           "#46039f"
          ],
          [
           0.2222222222222222,
           "#7201a8"
          ],
          [
           0.3333333333333333,
           "#9c179e"
          ],
          [
           0.4444444444444444,
           "#bd3786"
          ],
          [
           0.5555555555555556,
           "#d8576b"
          ],
          [
           0.6666666666666666,
           "#ed7953"
          ],
          [
           0.7777777777777778,
           "#fb9f3a"
          ],
          [
           0.8888888888888888,
           "#fdca26"
          ],
          [
           1,
           "#f0f921"
          ]
         ]
        },
        "legend": {
         "tracegroupgap": 0
        },
        "scene": {
         "domain": {
          "x": [
           0,
           1
          ],
          "y": [
           0,
           1
          ]
         },
         "xaxis": {
          "title": {
           "text": "x"
          }
         },
         "yaxis": {
          "title": {
           "text": "y"
          }
         },
         "zaxis": {
          "title": {
           "text": "z"
          }
         }
        },
        "template": {
         "data": {
          "bar": [
           {
            "error_x": {
             "color": "#2a3f5f"
            },
            "error_y": {
             "color": "#2a3f5f"
            },
            "marker": {
             "line": {
              "color": "#E5ECF6",
              "width": 0.5
             },
             "pattern": {
              "fillmode": "overlay",
              "size": 10,
              "solidity": 0.2
             }
            },
            "type": "bar"
           }
          ],
          "barpolar": [
           {
            "marker": {
             "line": {
              "color": "#E5ECF6",
              "width": 0.5
             },
             "pattern": {
              "fillmode": "overlay",
              "size": 10,
              "solidity": 0.2
             }
            },
            "type": "barpolar"
           }
          ],
          "carpet": [
           {
            "aaxis": {
             "endlinecolor": "#2a3f5f",
             "gridcolor": "white",
             "linecolor": "white",
             "minorgridcolor": "white",
             "startlinecolor": "#2a3f5f"
            },
            "baxis": {
             "endlinecolor": "#2a3f5f",
             "gridcolor": "white",
             "linecolor": "white",
             "minorgridcolor": "white",
             "startlinecolor": "#2a3f5f"
            },
            "type": "carpet"
           }
          ],
          "choropleth": [
           {
            "colorbar": {
             "outlinewidth": 0,
             "ticks": ""
            },
            "type": "choropleth"
           }
          ],
          "contour": [
           {
            "colorbar": {
             "outlinewidth": 0,
             "ticks": ""
            },
            "colorscale": [
             [
              0,
              "#0d0887"
             ],
             [
              0.1111111111111111,
              "#46039f"
             ],
             [
              0.2222222222222222,
              "#7201a8"
             ],
             [
              0.3333333333333333,
              "#9c179e"
             ],
             [
              0.4444444444444444,
              "#bd3786"
             ],
             [
              0.5555555555555556,
              "#d8576b"
             ],
             [
              0.6666666666666666,
              "#ed7953"
             ],
             [
              0.7777777777777778,
              "#fb9f3a"
             ],
             [
              0.8888888888888888,
              "#fdca26"
             ],
             [
              1,
              "#f0f921"
             ]
            ],
            "type": "contour"
           }
          ],
          "contourcarpet": [
           {
            "colorbar": {
             "outlinewidth": 0,
             "ticks": ""
            },
            "type": "contourcarpet"
           }
          ],
          "heatmap": [
           {
            "colorbar": {
             "outlinewidth": 0,
             "ticks": ""
            },
            "colorscale": [
             [
              0,
              "#0d0887"
             ],
             [
              0.1111111111111111,
              "#46039f"
             ],
             [
              0.2222222222222222,
              "#7201a8"
             ],
             [
              0.3333333333333333,
              "#9c179e"
             ],
             [
              0.4444444444444444,
              "#bd3786"
             ],
             [
              0.5555555555555556,
              "#d8576b"
             ],
             [
              0.6666666666666666,
              "#ed7953"
             ],
             [
              0.7777777777777778,
              "#fb9f3a"
             ],
             [
              0.8888888888888888,
              "#fdca26"
             ],
             [
              1,
              "#f0f921"
             ]
            ],
            "type": "heatmap"
           }
          ],
          "heatmapgl": [
           {
            "colorbar": {
             "outlinewidth": 0,
             "ticks": ""
            },
            "colorscale": [
             [
              0,
              "#0d0887"
             ],
             [
              0.1111111111111111,
              "#46039f"
             ],
             [
              0.2222222222222222,
              "#7201a8"
             ],
             [
              0.3333333333333333,
              "#9c179e"
             ],
             [
              0.4444444444444444,
              "#bd3786"
             ],
             [
              0.5555555555555556,
              "#d8576b"
             ],
             [
              0.6666666666666666,
              "#ed7953"
             ],
             [
              0.7777777777777778,
              "#fb9f3a"
             ],
             [
              0.8888888888888888,
              "#fdca26"
             ],
             [
              1,
              "#f0f921"
             ]
            ],
            "type": "heatmapgl"
           }
          ],
          "histogram": [
           {
            "marker": {
             "pattern": {
              "fillmode": "overlay",
              "size": 10,
              "solidity": 0.2
             }
            },
            "type": "histogram"
           }
          ],
          "histogram2d": [
           {
            "colorbar": {
             "outlinewidth": 0,
             "ticks": ""
            },
            "colorscale": [
             [
              0,
              "#0d0887"
             ],
             [
              0.1111111111111111,
              "#46039f"
             ],
             [
              0.2222222222222222,
              "#7201a8"
             ],
             [
              0.3333333333333333,
              "#9c179e"
             ],
             [
              0.4444444444444444,
              "#bd3786"
             ],
             [
              0.5555555555555556,
              "#d8576b"
             ],
             [
              0.6666666666666666,
              "#ed7953"
             ],
             [
              0.7777777777777778,
              "#fb9f3a"
             ],
             [
              0.8888888888888888,
              "#fdca26"
             ],
             [
              1,
              "#f0f921"
             ]
            ],
            "type": "histogram2d"
           }
          ],
          "histogram2dcontour": [
           {
            "colorbar": {
             "outlinewidth": 0,
             "ticks": ""
            },
            "colorscale": [
             [
              0,
              "#0d0887"
             ],
             [
              0.1111111111111111,
              "#46039f"
             ],
             [
              0.2222222222222222,
              "#7201a8"
             ],
             [
              0.3333333333333333,
              "#9c179e"
             ],
             [
              0.4444444444444444,
              "#bd3786"
             ],
             [
              0.5555555555555556,
              "#d8576b"
             ],
             [
              0.6666666666666666,
              "#ed7953"
             ],
             [
              0.7777777777777778,
              "#fb9f3a"
             ],
             [
              0.8888888888888888,
              "#fdca26"
             ],
             [
              1,
              "#f0f921"
             ]
            ],
            "type": "histogram2dcontour"
           }
          ],
          "mesh3d": [
           {
            "colorbar": {
             "outlinewidth": 0,
             "ticks": ""
            },
            "type": "mesh3d"
           }
          ],
          "parcoords": [
           {
            "line": {
             "colorbar": {
              "outlinewidth": 0,
              "ticks": ""
             }
            },
            "type": "parcoords"
           }
          ],
          "pie": [
           {
            "automargin": true,
            "type": "pie"
           }
          ],
          "scatter": [
           {
            "fillpattern": {
             "fillmode": "overlay",
             "size": 10,
             "solidity": 0.2
            },
            "type": "scatter"
           }
          ],
          "scatter3d": [
           {
            "line": {
             "colorbar": {
              "outlinewidth": 0,
              "ticks": ""
             }
            },
            "marker": {
             "colorbar": {
              "outlinewidth": 0,
              "ticks": ""
             }
            },
            "type": "scatter3d"
           }
          ],
          "scattercarpet": [
           {
            "marker": {
             "colorbar": {
              "outlinewidth": 0,
              "ticks": ""
             }
            },
            "type": "scattercarpet"
           }
          ],
          "scattergeo": [
           {
            "marker": {
             "colorbar": {
              "outlinewidth": 0,
              "ticks": ""
             }
            },
            "type": "scattergeo"
           }
          ],
          "scattergl": [
           {
            "marker": {
             "colorbar": {
              "outlinewidth": 0,
              "ticks": ""
             }
            },
            "type": "scattergl"
           }
          ],
          "scattermapbox": [
           {
            "marker": {
             "colorbar": {
              "outlinewidth": 0,
              "ticks": ""
             }
            },
            "type": "scattermapbox"
           }
          ],
          "scatterpolar": [
           {
            "marker": {
             "colorbar": {
              "outlinewidth": 0,
              "ticks": ""
             }
            },
            "type": "scatterpolar"
           }
          ],
          "scatterpolargl": [
           {
            "marker": {
             "colorbar": {
              "outlinewidth": 0,
              "ticks": ""
             }
            },
            "type": "scatterpolargl"
           }
          ],
          "scatterternary": [
           {
            "marker": {
             "colorbar": {
              "outlinewidth": 0,
              "ticks": ""
             }
            },
            "type": "scatterternary"
           }
          ],
          "surface": [
           {
            "colorbar": {
             "outlinewidth": 0,
             "ticks": ""
            },
            "colorscale": [
             [
              0,
              "#0d0887"
             ],
             [
              0.1111111111111111,
              "#46039f"
             ],
             [
              0.2222222222222222,
              "#7201a8"
             ],
             [
              0.3333333333333333,
              "#9c179e"
             ],
             [
              0.4444444444444444,
              "#bd3786"
             ],
             [
              0.5555555555555556,
              "#d8576b"
             ],
             [
              0.6666666666666666,
              "#ed7953"
             ],
             [
              0.7777777777777778,
              "#fb9f3a"
             ],
             [
              0.8888888888888888,
              "#fdca26"
             ],
             [
              1,
              "#f0f921"
             ]
            ],
            "type": "surface"
           }
          ],
          "table": [
           {
            "cells": {
             "fill": {
              "color": "#EBF0F8"
             },
             "line": {
              "color": "white"
             }
            },
            "header": {
             "fill": {
              "color": "#C8D4E3"
             },
             "line": {
              "color": "white"
             }
            },
            "type": "table"
           }
          ]
         },
         "layout": {
          "annotationdefaults": {
           "arrowcolor": "#2a3f5f",
           "arrowhead": 0,
           "arrowwidth": 1
          },
          "autotypenumbers": "strict",
          "coloraxis": {
           "colorbar": {
            "outlinewidth": 0,
            "ticks": ""
           }
          },
          "colorscale": {
           "diverging": [
            [
             0,
             "#8e0152"
            ],
            [
             0.1,
             "#c51b7d"
            ],
            [
             0.2,
             "#de77ae"
            ],
            [
             0.3,
             "#f1b6da"
            ],
            [
             0.4,
             "#fde0ef"
            ],
            [
             0.5,
             "#f7f7f7"
            ],
            [
             0.6,
             "#e6f5d0"
            ],
            [
             0.7,
             "#b8e186"
            ],
            [
             0.8,
             "#7fbc41"
            ],
            [
             0.9,
             "#4d9221"
            ],
            [
             1,
             "#276419"
            ]
           ],
           "sequential": [
            [
             0,
             "#0d0887"
            ],
            [
             0.1111111111111111,
             "#46039f"
            ],
            [
             0.2222222222222222,
             "#7201a8"
            ],
            [
             0.3333333333333333,
             "#9c179e"
            ],
            [
             0.4444444444444444,
             "#bd3786"
            ],
            [
             0.5555555555555556,
             "#d8576b"
            ],
            [
             0.6666666666666666,
             "#ed7953"
            ],
            [
             0.7777777777777778,
             "#fb9f3a"
            ],
            [
             0.8888888888888888,
             "#fdca26"
            ],
            [
             1,
             "#f0f921"
            ]
           ],
           "sequentialminus": [
            [
             0,
             "#0d0887"
            ],
            [
             0.1111111111111111,
             "#46039f"
            ],
            [
             0.2222222222222222,
             "#7201a8"
            ],
            [
             0.3333333333333333,
             "#9c179e"
            ],
            [
             0.4444444444444444,
             "#bd3786"
            ],
            [
             0.5555555555555556,
             "#d8576b"
            ],
            [
             0.6666666666666666,
             "#ed7953"
            ],
            [
             0.7777777777777778,
             "#fb9f3a"
            ],
            [
             0.8888888888888888,
             "#fdca26"
            ],
            [
             1,
             "#f0f921"
            ]
           ]
          },
          "colorway": [
           "#636efa",
           "#EF553B",
           "#00cc96",
           "#ab63fa",
           "#FFA15A",
           "#19d3f3",
           "#FF6692",
           "#B6E880",
           "#FF97FF",
           "#FECB52"
          ],
          "font": {
           "color": "#2a3f5f"
          },
          "geo": {
           "bgcolor": "white",
           "lakecolor": "white",
           "landcolor": "#E5ECF6",
           "showlakes": true,
           "showland": true,
           "subunitcolor": "white"
          },
          "hoverlabel": {
           "align": "left"
          },
          "hovermode": "closest",
          "mapbox": {
           "style": "light"
          },
          "paper_bgcolor": "white",
          "plot_bgcolor": "#E5ECF6",
          "polar": {
           "angularaxis": {
            "gridcolor": "white",
            "linecolor": "white",
            "ticks": ""
           },
           "bgcolor": "#E5ECF6",
           "radialaxis": {
            "gridcolor": "white",
            "linecolor": "white",
            "ticks": ""
           }
          },
          "scene": {
           "xaxis": {
            "backgroundcolor": "#E5ECF6",
            "gridcolor": "white",
            "gridwidth": 2,
            "linecolor": "white",
            "showbackground": true,
            "ticks": "",
            "zerolinecolor": "white"
           },
           "yaxis": {
            "backgroundcolor": "#E5ECF6",
            "gridcolor": "white",
            "gridwidth": 2,
            "linecolor": "white",
            "showbackground": true,
            "ticks": "",
            "zerolinecolor": "white"
           },
           "zaxis": {
            "backgroundcolor": "#E5ECF6",
            "gridcolor": "white",
            "gridwidth": 2,
            "linecolor": "white",
            "showbackground": true,
            "ticks": "",
            "zerolinecolor": "white"
           }
          },
          "shapedefaults": {
           "line": {
            "color": "#2a3f5f"
           }
          },
          "ternary": {
           "aaxis": {
            "gridcolor": "white",
            "linecolor": "white",
            "ticks": ""
           },
           "baxis": {
            "gridcolor": "white",
            "linecolor": "white",
            "ticks": ""
           },
           "bgcolor": "#E5ECF6",
           "caxis": {
            "gridcolor": "white",
            "linecolor": "white",
            "ticks": ""
           }
          },
          "title": {
           "x": 0.05
          },
          "xaxis": {
           "automargin": true,
           "gridcolor": "white",
           "linecolor": "white",
           "ticks": "",
           "title": {
            "standoff": 15
           },
           "zerolinecolor": "white",
           "zerolinewidth": 2
          },
          "yaxis": {
           "automargin": true,
           "gridcolor": "white",
           "linecolor": "white",
           "ticks": "",
           "title": {
            "standoff": 15
           },
           "zerolinecolor": "white",
           "zerolinewidth": 2
          }
         }
        },
        "title": {
         "text": "3D sem correção de escala"
        }
       }
      }
     },
     "metadata": {},
     "output_type": "display_data"
    }
   ],
   "source": [
    "# o mesmo é feito para o tridimensional\n",
    "pca = PCA(n_components=3)\n",
    "dados = pca.fit_transform(df.iloc[:,2:-1])\n",
    "px.scatter_3d(x=dados[:,0], y=dados[:,1], z=dados[:,2], color=especies, title=\"3D sem correção de escala\")"
   ]
  }
 ],
 "metadata": {
  "kernelspec": {
   "display_name": "Python 3",
   "language": "python",
   "name": "python3"
  },
  "language_info": {
   "codemirror_mode": {
    "name": "ipython",
    "version": 3
   },
   "file_extension": ".py",
   "mimetype": "text/x-python",
   "name": "python",
   "nbconvert_exporter": "python",
   "pygments_lexer": "ipython3",
   "version": "3.12.7"
  }
 },
 "nbformat": 4,
 "nbformat_minor": 2
}
