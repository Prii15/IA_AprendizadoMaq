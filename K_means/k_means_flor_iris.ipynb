{
 "cells": [
  {
   "cell_type": "markdown",
   "metadata": {},
   "source": [
    "\n",
    "K-Means para Flor de Iris"
   ]
  },
  {
   "cell_type": "code",
   "execution_count": null,
   "metadata": {
    "vscode": {
     "languageId": "plaintext"
    }
   },
   "outputs": [],
   "source": [
    "from sklearn.cluster import KMeans\n",
    "from sklearn.datasets import load_iris\n",
    "from sklearn.decomposition import PCA\n",
    "from sklearn.preprocessing import StandardScaler\n",
    "import matplotlib.pyplot as plt\n",
    "\n",
    "entrada, classe = load_iris(return_X_y=True)\n",
    "\n",
    "padronizado = StandardScaler()\n",
    "entrada_padronizada = padronizado.fit_transform(entrada)\n",
    "\n",
    "pca = PCA(n_components=2)\n",
    "duas_dimensoes = pca.fit_transform(entrada)"
   ]
  },
  {
   "cell_type": "markdown",
   "metadata": {},
   "source": [
    "Método do cotovelo para definir K (quantidade clusters): análise K=1 até K=10"
   ]
  },
  {
   "cell_type": "code",
   "execution_count": null,
   "metadata": {
    "vscode": {
     "languageId": "plaintext"
    }
   },
   "outputs": [],
   "source": [
    "inertia=[]\n",
    "for i in range(1,11):\n",
    "    kmeans = KMeans(n_clusters=i, n_init='auto')\n",
    "    kmeans.fit(duas_dimensoes)\n",
    "    inertia.append(kmeans.inertia_)\n",
    "\n",
    "plt.plot(list(range(1,11)), inertia)\n",
    "plt.xlabel(\"# klusters\")\n",
    "plt.ylabel(\"inertia\")"
   ]
  },
  {
   "cell_type": "markdown",
   "metadata": {},
   "source": [
    "Utilizando K=3 e comparando o agrupamento realizado pelo KMeans com os dados rotulados do dataset original"
   ]
  },
  {
   "cell_type": "code",
   "execution_count": null,
   "metadata": {
    "vscode": {
     "languageId": "plaintext"
    }
   },
   "outputs": [],
   "source": [
    "kmeans = KMeans(n_clusters=3, n_init='auto')\n",
    "kmeans.fit(duas_dimensoes)\n",
    "solucao = kmeans.predict(duas_dimensoes)\n",
    "\n",
    "plt.subplot(1,2,1)\n",
    "plt.scatter(duas_dimensoes[:,0], duas_dimensoes[:,1],\n",
    "            c=solucao, alpha=0.4, cmap='winter')\n",
    "plt.title(\"kmeans\")\n",
    "plt.subplot(1,2,2)\n",
    "plt.scatter(duas_dimensoes[:,0], duas_dimensoes[:,1],\n",
    "            c=classe, alpha=0.4, cmap='winter')\n",
    "plt.title(\"Dataset real\")"
   ]
  }
 ],
 "metadata": {
  "language_info": {
   "name": "python"
  }
 },
 "nbformat": 4,
 "nbformat_minor": 2
}
