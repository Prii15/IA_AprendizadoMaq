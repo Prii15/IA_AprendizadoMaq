{
 "cells": [
  {
   "cell_type": "code",
   "execution_count": 1,
   "metadata": {},
   "outputs": [],
   "source": [
    "from sklearn.naive_bayes import CategoricalNB\n",
    "\n",
    "# entradas\n",
    "outlook= ['Sunny', 'Sunny', 'Overcast', 'Rainy','Rainy','Rainy', 'Overcast',\n",
    "          'Sunny', 'Sunny', 'Rainy', 'Sunny', 'Overcast', 'Overcast', 'Rainy']\n",
    "\n",
    "temp = ['Hot', 'Hot', 'Hot', 'Mild', 'Cool','Cool','Cool', 'Mild', 'Cool',\n",
    "        'Mild','Mild', 'Mild', 'Hot', 'Mild']\n",
    "\n",
    "humidity = ['High', 'High', 'High', 'High', 'Normal', 'Normal', 'Normal',\n",
    "            'High', 'Normal', 'Normal', 'Normal', 'High', 'Normal', 'High']\n",
    "\n",
    "wind = ['Weak', 'Strong', 'Weak','Weak','Weak','Strong', 'Strong', 'Weak',\n",
    "        'Weak', 'Weak', 'Strong', 'Strong', 'Weak', 'Strong']\n",
    "# saída\n",
    "play = ['No', 'No', \"Yes\", \"Yes\", \"Yes\", 'No', \"Yes\", \"No\", \"Yes\",\"Yes\",\"Yes\",\n",
    "        \"Yes\", \"Yes\", \"No\"]"
   ]
  },
  {
   "cell_type": "code",
   "execution_count": null,
   "metadata": {},
   "outputs": [],
   "source": [
    "from sklearn import preprocessing\n",
    "\n",
    "encoder = preprocessing.LabelEncoder()\n",
    "outlook_num = encoder.fit_transform(outlook)\n",
    "temp_num = encoder.fit_transform(temp)\n",
    "hum_num = encoder.fit_transform(humidity)\n",
    "wind_num = encoder.fit_transform(wind)\n",
    "play_num = encoder.fit_transform(play)\n",
    "print(outlook_num)\n",
    "print(temp_num)\n",
    "print(hum_num)\n",
    "print(wind_num)\n",
    "print(play_num)"
   ]
  },
  {
   "cell_type": "code",
   "execution_count": null,
   "metadata": {},
   "outputs": [],
   "source": [
    "#entradas = list(zip(outlook,temp,humidity,wind))\n",
    "entradas = list(zip(outlook_num,temp_num,hum_num,wind_num))\n",
    "print(entradas)"
   ]
  },
  {
   "cell_type": "code",
   "execution_count": null,
   "metadata": {},
   "outputs": [],
   "source": [
    "nb = CategoricalNB()\n",
    "nb.fit(entradas, play)"
   ]
  },
  {
   "cell_type": "code",
   "execution_count": null,
   "metadata": {},
   "outputs": [],
   "source": [
    "nb.predict([[2,0,0,0]])"
   ]
  },
  {
   "cell_type": "code",
   "execution_count": null,
   "metadata": {},
   "outputs": [],
   "source": [
    "nb.predict_proba([[2,0,0,0]])"
   ]
  },
  {
   "cell_type": "code",
   "execution_count": null,
   "metadata": {},
   "outputs": [],
   "source": [
    "nb.score(entradas, play)"
   ]
  }
 ],
 "metadata": {
  "kernelspec": {
   "display_name": "Python 3",
   "language": "python",
   "name": "python3"
  },
  "language_info": {
   "codemirror_mode": {
    "name": "ipython",
    "version": 3
   },
   "file_extension": ".py",
   "mimetype": "text/x-python",
   "name": "python",
   "nbconvert_exporter": "python",
   "pygments_lexer": "ipython3",
   "version": "3.12.6"
  }
 },
 "nbformat": 4,
 "nbformat_minor": 2
}
